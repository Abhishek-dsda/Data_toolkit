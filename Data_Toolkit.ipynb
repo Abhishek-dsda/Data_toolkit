{
 "cells": [
  {
   "cell_type": "markdown",
   "id": "359ada52",
   "metadata": {},
   "source": [
    "### Data Toolkit Assignement"
   ]
  },
  {
   "cell_type": "markdown",
   "id": "890e5292",
   "metadata": {},
   "source": [
    "***1. What is NumPy, and why is it widely used in Python?***"
   ]
  },
  {
   "cell_type": "markdown",
   "id": "89e5b56e",
   "metadata": {},
   "source": [
    "NumPy (Numerical Python) is a powerful open-source Python library used for numerical and scientific computing. It provides an efficient multi-dimensional array object called ndarray and supports a wide range of mathematical, statistical, and linear algebra operations.\n",
    "\n",
    "NumPy is widely used in Python because:\n",
    "\n",
    "* It is faster and more memory-efficient than Python lists as it stores data in a homogeneous format and uses optimized C/Fortran implementations.\n",
    "* It supports vectorized operations, which allow applying mathematical functions on entire arrays without using explicit loops.<br>\n",
    "* It provides built-in mathematical functions such as linear algebra, Fourier transforms, and random number generation.<br>\n",
    "* It serves as the foundation of data science and machine learning libraries like Pandas, Scikit-learn, TensorFlow, and PyTorch.\n",
    "* It integrates well with visualization tools such as Matplotlib."
   ]
  },
  {
   "cell_type": "markdown",
   "id": "b1c9476e",
   "metadata": {},
   "source": [
    "***2.How does broadcasting work in NumPy?***\n",
    "\n",
    "Broadcasting in NumPy is a method that allows arithmetic operations between arrays of different shapes and sizes. Instead of creating multiple copies of smaller arrays, NumPy automatically “broadcasts” (expands) them to match the shape of the larger array during computation.\n",
    "\n",
    "The broadcasting rules are:\n",
    "\n",
    "* If the arrays have different dimensions, the smaller array is padded with 1 on the left until the shapes match.\n",
    "* Dimensions are compatible when they are equal or one of them is 1.\n",
    "* If any dimension does not follow these rules, broadcasting fails."
   ]
  },
  {
   "cell_type": "code",
   "execution_count": 1,
   "id": "f35a18a6",
   "metadata": {},
   "outputs": [
    {
     "name": "stdout",
     "output_type": "stream",
     "text": [
      "[[11 12 13]\n",
      " [21 22 23]]\n"
     ]
    }
   ],
   "source": [
    "import numpy as np\n",
    "\n",
    "A = np.array([1, 2, 3])      # Shape (3,)\n",
    "B = np.array([[10], [20]])   # Shape (2,1)\n",
    "\n",
    "# Broadcasting expands A to match B’s shape\n",
    "C = A + B\n",
    "print(C)"
   ]
  },
  {
   "cell_type": "markdown",
   "id": "04c10f2c",
   "metadata": {},
   "source": [
    "***3.What is a Pandas DataFrame?***\n",
    "\n",
    "A Pandas DataFrame is a two-dimensional, size-mutable, and heterogeneous data structure in Python provided by the Pandas library. It is similar to a table in a database or an Excel spreadsheet, where data is arranged in rows and columns with labeled axes.\n",
    "\n",
    "Key Features of DataFrame:\n",
    "\n",
    "* Stores data in tabular form (rows and columns).\n",
    "* Columns can store different data types (integer, float, string, etc.).\n",
    "* Provides labels (index and column names) for easy data access.\n",
    "* Supports powerful operations such as filtering, grouping, merging, joining, reshaping, and aggregation.\n",
    "* Allows handling of missing data effectively."
   ]
  },
  {
   "cell_type": "code",
   "execution_count": 2,
   "id": "26df9e36",
   "metadata": {},
   "outputs": [
    {
     "name": "stdout",
     "output_type": "stream",
     "text": [
      "    Name  Age  Marks\n",
      "0   Amit   21     85\n",
      "1   Riya   25     90\n",
      "2  Sohan   22     88\n"
     ]
    }
   ],
   "source": [
    "import pandas as pd\n",
    "\n",
    "data = {\n",
    "    'Name': ['Amit', 'Riya', 'Sohan'],\n",
    "    'Age': [21, 25, 22],\n",
    "    'Marks': [85, 90, 88]\n",
    "}\n",
    "\n",
    "df = pd.DataFrame(data)\n",
    "print(df)\n"
   ]
  },
  {
   "cell_type": "markdown",
   "id": "959c8852",
   "metadata": {},
   "source": [
    "***4.Explain the use of the groupby() method in Pandas.***\n",
    "\n",
    "The groupby() method in Pandas is used to split data into groups based on one or more columns and then perform operations such as aggregation, transformation, or filtering on each group. It is especially useful for summarizing and analyzing large datasets.\n",
    "\n",
    "Steps in groupby():\n",
    "\n",
    "* Split – Divide the data into groups based on column values.\n",
    "* Apply – Perform a function (e.g., sum, mean, count) on each group.\n",
    "* Combine – Merge the results into a new DataFrame."
   ]
  },
  {
   "cell_type": "code",
   "execution_count": 3,
   "id": "bb01c171",
   "metadata": {},
   "outputs": [
    {
     "name": "stdout",
     "output_type": "stream",
     "text": [
      "Department\n",
      "Finance    55000.0\n",
      "HR         46000.0\n",
      "IT         55000.0\n",
      "Name: Salary, dtype: float64\n"
     ]
    }
   ],
   "source": [
    "import pandas as pd\n",
    "\n",
    "data = {'Department': ['IT', 'IT', 'HR', 'HR', 'Finance'],\n",
    "        'Salary': [50000, 60000, 45000, 47000, 55000]}\n",
    "df = pd.DataFrame(data)\n",
    "\n",
    "# Group by Department and find average salary\n",
    "result = df.groupby('Department')['Salary'].mean()\n",
    "print(result)\n"
   ]
  },
  {
   "cell_type": "markdown",
   "id": "2fda2bb5",
   "metadata": {},
   "source": [
    "***5.Why is Seaborn preferred for statistical visualizations?***\n",
    "\n",
    "Seaborn is a Python data visualization library built on top of Matplotlib, and it is widely preferred for statistical visualizations because it provides a high-level, easy-to-use interface for creating informative and attractive graphics.\n",
    "\n",
    "Reasons why Seaborn is preferred:\n",
    "\n",
    "* Built-in themes and styles – Creates visually appealing plots with minimal code.\n",
    "* Specialized statistical plots – Provides functions like distplot, boxplot, violinplot, pairplot, and heatmap that are commonly used in data analysis.\n",
    "* Integration with Pandas – Works directly with DataFrames, allowing plots to be created using column names.\n",
    "* Automatic statistical calculations – Can compute and display things like regression lines, confidence intervals, and distributions.\n",
    "* Less code, more output – Complex plots can be created with just a few lines compared to Matplotlib."
   ]
  },
  {
   "cell_type": "code",
   "execution_count": 4,
   "id": "a2f3248a",
   "metadata": {},
   "outputs": [
    {
     "data": {
      "text/plain": [
       "<Axes: xlabel='Subject', ylabel='Marks'>"
      ]
     },
     "execution_count": 4,
     "metadata": {},
     "output_type": "execute_result"
    },
    {
     "data": {
      "image/png": "[encoded data removed]",
      "text/plain": [
       "<Figure size 640x480 with 1 Axes>"
      ]
     },
     "metadata": {},
     "output_type": "display_data"
    }
   ],
   "source": [
    "import seaborn as sns\n",
    "import pandas as pd\n",
    "\n",
    "data = {'Subject': ['Math', 'Math', 'Science', 'Science'],\n",
    "        'Marks': [85, 90, 78, 88]}\n",
    "df = pd.DataFrame(data)\n",
    "\n",
    "sns.barplot(x='Subject', y='Marks', data=df)\n"
   ]
  },
  {
   "cell_type": "markdown",
   "id": "9b25bf3a",
   "metadata": {},
   "source": [
    "***6.What are the differences between NumPy arrays and Python lists?***\n",
    "\n",
    "| Aspect                | NumPy Arrays                                                | Python Lists                                                          |\n",
    "| --------------------- | ----------------------------------------------------------- | --------------------------------------------------------------------- |\n",
    "| **Data Type**         | Homogeneous (all elements must be of same type)             | Heterogeneous (can store different data types)                        |\n",
    "| **Memory Efficiency** | Uses less memory, stored in contiguous blocks               | Takes more memory, scattered storage                                  |\n",
    "| **Performance**       | Much faster for numerical operations (implemented in C)     | Slower for numerical operations                                       |\n",
    "| **Operations**        | Supports vectorized operations (element-wise without loops) | Requires explicit loops for element-wise operations                   |\n",
    "| **Functionality**     | Provides built-in mathematical and statistical functions    | Limited functionality, requires extra coding                          |\n",
    "| **Dimensionality**    | Supports multi-dimensional arrays (1D, 2D, nD)              | Mostly single-dimensional (nested lists for multi-D, but inefficient) |\n"
   ]
  },
  {
   "cell_type": "markdown",
   "id": "67a2ffc0",
   "metadata": {},
   "source": [
    "***7.What is a heatmap, and when should it be used?***\n",
    "\n",
    "A heatmap is a data visualization technique that represents values in a matrix form using colors. Each cell’s color intensity corresponds to the magnitude of the value, making it easy to identify patterns, trends, and correlations in data.\n",
    "\n",
    "When to use a heatmap:\n",
    "\n",
    "* To visualize correlation matrices (e.g., relationship between variables in statistics or machine learning).\n",
    "* To identify patterns, clusters, or anomalies in large datasets.\n",
    "* For comparing performance metrics across categories.\n",
    "* To analyze frequency or density of data points."
   ]
  },
  {
   "cell_type": "code",
   "execution_count": 5,
   "id": "d52885d7",
   "metadata": {},
   "outputs": [
    {
     "data": {
      "text/plain": [
       "<Axes: >"
      ]
     },
     "execution_count": 5,
     "metadata": {},
     "output_type": "execute_result"
    },
    {
     "data": {
      "image/png": "[encoded data removed]",
      "text/plain": [
       "<Figure size 640x480 with 2 Axes>"
      ]
     },
     "metadata": {},
     "output_type": "display_data"
    }
   ],
   "source": [
    "import seaborn as sns\n",
    "import pandas as pd\n",
    "\n",
    "data = {'Math':[80, 90, 85], 'Science':[75, 88, 92], 'English':[78, 85, 80]}\n",
    "df = pd.DataFrame(data)\n",
    "\n",
    "sns.heatmap(df, annot=True, cmap=\"YlGnBu\")"
   ]
  },
  {
   "cell_type": "markdown",
   "id": "6c7ffa03",
   "metadata": {},
   "source": [
    "***8.What does the term “vectorized operation” mean in NumPy?***\n",
    "\n",
    "In NumPy, a vectorized operation refers to performing arithmetic or mathematical operations directly on entire arrays (vectors, matrices) without using explicit loops. NumPy applies the operation element-wise internally using optimized C code, which makes it much faster and more efficient than Python loops.\n",
    "\n",
    "Key Points:\n",
    "\n",
    "* Eliminates the need for writing for loops.\n",
    "* Improves performance and readability of code.\n",
    "* Utilizes low-level optimizations for speed.\n",
    "* Works on arrays of any dimension (1D, 2D, nD)."
   ]
  },
  {
   "cell_type": "code",
   "execution_count": 6,
   "id": "0f83d9f6",
   "metadata": {},
   "outputs": [
    {
     "name": "stdout",
     "output_type": "stream",
     "text": [
      "[2 4 6 8]\n",
      "[2, 4, 6, 8]\n"
     ]
    }
   ],
   "source": [
    "import numpy as np\n",
    "\n",
    "arr = np.array([1, 2, 3, 4])\n",
    "\n",
    "# Vectorized operation\n",
    "print(arr * 2)   # [2 4 6 8]\n",
    "\n",
    "# Without vectorization (using loop)\n",
    "result = [x * 2 for x in [1, 2, 3, 4]]\n",
    "print(result)    # [2, 4, 6, 8]\n"
   ]
  },
  {
   "cell_type": "markdown",
   "id": "ee002dec",
   "metadata": {},
   "source": [
    "***9.How does Matplotlib differ from Plotly?***\n",
    "\n",
    "| Feature             | **Matplotlib**                                                          | **Plotly**                                          |\n",
    "| ------------------- | ----------------------------------------------------------------------- | --------------------------------------------------- |\n",
    "| **Type of Library** | 2D plotting library (basic & static)                                    | Interactive visualization library                   |\n",
    "| **Interactivity**   | Generates mostly **static** plots (needs extra tools for interactivity) | Built-in **interactive** plots (zoom, hover, click) |\n",
    "| **Ease of Use**     | More code needed for customization                                      | Easier to create attractive plots with less code    |\n",
    "| **Visuals**         | Basic visuals, highly customizable                                      | Modern, visually rich, and web-friendly             |\n",
    "| **Output**          | Static images (PNG, PDF, etc.)                                          | Interactive dashboards (HTML, Jupyter, web apps)    |\n",
    "| **Best For**        | Traditional scientific plots, research papers                           | Dashboards, presentations, web applications         |\n"
   ]
  },
  {
   "cell_type": "markdown",
   "id": "cda1720f",
   "metadata": {},
   "source": [
    "***10.What is the significance of hierarchical indexing in Pandas?***\n",
    "\n",
    "Hierarchical indexing (also called MultiIndexing) in Pandas allows a DataFrame or Series to have multiple levels of indexing on rows or columns. It is useful for working with higher-dimensional data in a 2D table format.\n",
    "\n",
    "Significance:\n",
    "\n",
    "* Represents higher-dimensional data (3D or more) in 2D form.\n",
    "* Organizes complex datasets by grouping data logically with multiple keys.\n",
    "* Provides flexibility in data selection, as data can be accessed using combinations of index levels.\n",
    "* Enables powerful reshaping operations like stack() and unstack().\n",
    "* Useful for time-series data (e.g., Year → Month → Day hierarchy)."
   ]
  },
  {
   "cell_type": "code",
   "execution_count": 7,
   "id": "baee3805",
   "metadata": {},
   "outputs": [
    {
     "name": "stdout",
     "output_type": "stream",
     "text": [
      "                 Marks\n",
      "Class   Subject       \n",
      "Class A Math        85\n",
      "        Science     90\n",
      "Class B Math        78\n",
      "        Science     88\n"
     ]
    }
   ],
   "source": [
    "import pandas as pd\n",
    "\n",
    "# Create data with MultiIndex\n",
    "data = {'Marks': [85, 90, 78, 88]}\n",
    "index = pd.MultiIndex.from_tuples(\n",
    "    [('Class A', 'Math'),\n",
    "     ('Class A', 'Science'),\n",
    "     ('Class B', 'Math'),\n",
    "     ('Class B', 'Science')],\n",
    "    names=['Class', 'Subject']\n",
    ")\n",
    "\n",
    "df = pd.DataFrame(data, index=index)\n",
    "print(df)\n"
   ]
  },
  {
   "cell_type": "markdown",
   "id": "cbb7b8cb",
   "metadata": {},
   "source": [
    "***11.What is the role of Seaborn’s pairplot() function?***\n",
    "\n",
    "The pairplot() function in Seaborn is used to create a matrix of scatterplots that shows pairwise relationships between multiple variables in a dataset. It is very useful for exploratory data analysis (EDA) to identify patterns, correlations, and distributions.\n",
    "\n",
    "Role of pairplot():\n",
    "\n",
    "* Plots scatterplots between every pair of numerical variables.\n",
    "* Shows histograms or KDE plots (Kernel Density Estimation) on the diagonal to represent each variable’s distribution.\n",
    "* Helps in detecting correlations, trends, and outliers.\n",
    "* Allows grouping by categories using the hue parameter for better comparison."
   ]
  },
  {
   "cell_type": "code",
   "execution_count": 8,
   "id": "1de49c8d",
   "metadata": {},
   "outputs": [
    {
     "data": {
      "text/plain": [
       "<seaborn.axisgrid.PairGrid at 0x1f4b0a8b230>"
      ]
     },
     "execution_count": 8,
     "metadata": {},
     "output_type": "execute_result"
    },
    {
     "data": {
      "image/png": "[encoded data removed]",
      "text/plain": [
       "<Figure size 1117.75x1000 with 20 Axes>"
      ]
     },
     "metadata": {},
     "output_type": "display_data"
    }
   ],
   "source": [
    "import seaborn as sns\n",
    "import pandas as pd\n",
    "\n",
    "# Sample dataset\n",
    "df = sns.load_dataset(\"iris\")\n",
    "\n",
    "# Create pairplot\n",
    "sns.pairplot(df, hue=\"species\")\n"
   ]
  },
  {
   "cell_type": "markdown",
   "id": "039bc4a0",
   "metadata": {},
   "source": [
    "***12.What is the purpose of the describe() function in Pandas?***\n",
    "\n",
    "The describe() function in Pandas is used to generate descriptive statistics of a DataFrame or Series. It provides a quick summary of the central tendency, dispersion, and distribution of the dataset.\n",
    "\n",
    "Purpose:\n",
    "\n",
    "* Gives an overview of numerical data (count, mean, standard deviation, min, max, quartiles).\n",
    "* For categorical data, it provides count, unique values, top value, and frequency.\n",
    "* Helps in quickly understanding data characteristics before analysis.\n",
    "* Useful for data exploration, cleaning, and detecting anomalies."
   ]
  },
  {
   "cell_type": "code",
   "execution_count": 9,
   "id": "39d21fff",
   "metadata": {},
   "outputs": [
    {
     "name": "stdout",
     "output_type": "stream",
     "text": [
      "             Age      Marks\n",
      "count   5.000000   5.000000\n",
      "mean   24.200000  87.200000\n",
      "std     3.563706   6.300794\n",
      "min    21.000000  78.000000\n",
      "25%    22.000000  85.000000\n",
      "50%    23.000000  88.000000\n",
      "75%    25.000000  90.000000\n",
      "max    30.000000  95.000000\n"
     ]
    }
   ],
   "source": [
    "import pandas as pd\n",
    "\n",
    "data = {'Age': [21, 25, 23, 22, 30],\n",
    "        'Marks': [85, 90, 78, 88, 95]}\n",
    "df = pd.DataFrame(data)\n",
    "\n",
    "print(df.describe())"
   ]
  },
  {
   "cell_type": "markdown",
   "id": "780b884a",
   "metadata": {},
   "source": [
    "***13.Why is handling missing data important in Pandas?***\n",
    "\n",
    "Handling missing data is important in Pandas because missing or null values can lead to inaccurate analysis, errors in computation, or biased results if not treated properly. Many datasets in real-world applications (finance, healthcare, marketing, etc.) often contain missing values, so dealing with them is a crucial step in data preprocessing.\n",
    "\n",
    "Reasons why it is important:\n",
    "\n",
    "* Prevents errors – Many functions cannot work with NaN values directly.\n",
    "* Ensures accuracy – Missing data can distort statistical measures like mean, median, and correlation.\n",
    "* Improves model performance – Machine learning algorithms may fail or give biased predictions with missing values.\n",
    "* Maintains data integrity – Proper handling (dropping, filling, interpolation) ensures reliable analysis."
   ]
  },
  {
   "cell_type": "code",
   "execution_count": 10,
   "id": "42b5168b",
   "metadata": {},
   "outputs": [
    {
     "name": "stdout",
     "output_type": "stream",
     "text": [
      "    Name    Age\n",
      "0  False  False\n",
      "1  False   True\n",
      "2  False  False\n",
      "    Name   Age\n",
      "0   Amit  25.0\n",
      "1   Riya   0.0\n",
      "2  Sohan  22.0\n"
     ]
    }
   ],
   "source": [
    "import pandas as pd\n",
    "import numpy as np\n",
    "\n",
    "data = {'Name': ['Amit', 'Riya', 'Sohan'],\n",
    "        'Age': [25, np.nan, 22]}\n",
    "df = pd.DataFrame(data)\n",
    "\n",
    "print(df.isnull())     # Check missing values\n",
    "print(df.fillna(0))    # Replace NaN with 0"
   ]
  },
  {
   "cell_type": "markdown",
   "id": "4666087d",
   "metadata": {},
   "source": [
    "***14.What are the benefits of using Plotly for data visualization?***\n",
    "\n",
    "Plotly is a powerful Python library for creating interactive and web-based visualizations. It is widely used in data analysis, business intelligence, and dashboards.\n",
    "\n",
    "Benefits of using Plotly:\n",
    "\n",
    "* Interactivity – Provides interactive charts with zoom, hover tooltips, and click options by default.\n",
    "* Wide range of charts – Supports line, bar, scatter, pie, bubble, 3D plots, maps, and advanced statistical charts.\n",
    "* Web integration – Plots can be easily embedded in web applications and dashboards (e.g., with Dash).\n",
    "* High-quality visuals – Produces modern, attractive, and publication-ready graphics.\n",
    "* Ease of use – Requires less code to generate interactive plots compared to Matplotlib.\n",
    "* Supports large datasets – Efficient in visualizing big data with better responsiveness.\n",
    "* Cross-platform compatibility – Works in Jupyter notebooks, Python scripts, and web browsers."
   ]
  },
  {
   "cell_type": "code",
   "execution_count": 11,
   "id": "7e65cdfc",
   "metadata": {},
   "outputs": [
    {
     "data": {
      "application/vnd.plotly.v1+json": {
       "config": {
        "plotlyServerURL": "https://plot.ly"
       },
       "data": [
        {
         "hovertemplate": "species=setosa<br>sepal_width=%{x}<br>sepal_length=%{y}<extra></extra>",
         "legendgroup": "setosa",
         "marker": {
          "color": "#636efa",
          "symbol": "circle"
         },
         "mode": "markers",
         "name": "setosa",
         "orientation": "v",
         "showlegend": true,
         "type": "scatter",
         "x": {
          "bdata": "AAAAAAAADEAAAAAAAAAIQJqZmZmZmQlAzczMzMzMCEDNzMzMzMwMQDMzMzMzMw9AMzMzMzMzC0AzMzMzMzMLQDMzMzMzMwdAzczMzMzMCECamZmZmZkNQDMzMzMzMwtAAAAAAAAACEAAAAAAAAAIQAAAAAAAABBAmpmZmZmZEUAzMzMzMzMPQAAAAAAAAAxAZmZmZmZmDkBmZmZmZmYOQDMzMzMzMwtAmpmZmZmZDUDNzMzMzMwMQGZmZmZmZgpAMzMzMzMzC0AAAAAAAAAIQDMzMzMzMwtAAAAAAAAADEAzMzMzMzMLQJqZmZmZmQlAzczMzMzMCEAzMzMzMzMLQGZmZmZmZhBAzczMzMzMEEDNzMzMzMwIQJqZmZmZmQlAAAAAAAAADEDNzMzMzMwIQAAAAAAAAAhAMzMzMzMzC0AAAAAAAAAMQGZmZmZmZgJAmpmZmZmZCUAAAAAAAAAMQGZmZmZmZg5AAAAAAAAACEBmZmZmZmYOQJqZmZmZmQlAmpmZmZmZDUBmZmZmZmYKQA==",
          "dtype": "f8"
         },
         "xaxis": "x",
         "y": {
          "bdata": "ZmZmZmZmFECamZmZmZkTQM3MzMzMzBJAZmZmZmZmEkAAAAAAAAAUQJqZmZmZmRVAZmZmZmZmEkAAAAAAAAAUQJqZmZmZmRFAmpmZmZmZE0CamZmZmZkVQDMzMzMzMxNAMzMzMzMzE0AzMzMzMzMRQDMzMzMzMxdAzczMzMzMFkCamZmZmZkVQGZmZmZmZhRAzczMzMzMFkBmZmZmZmYUQJqZmZmZmRVAZmZmZmZmFEBmZmZmZmYSQGZmZmZmZhRAMzMzMzMzE0AAAAAAAAAUQAAAAAAAABRAzczMzMzMFEDNzMzMzMwUQM3MzMzMzBJAMzMzMzMzE0CamZmZmZkVQM3MzMzMzBRAAAAAAAAAFkCamZmZmZkTQAAAAAAAABRAAAAAAAAAFkCamZmZmZkTQJqZmZmZmRFAZmZmZmZmFEAAAAAAAAAUQAAAAAAAABJAmpmZmZmZEUAAAAAAAAAUQGZmZmZmZhRAMzMzMzMzE0BmZmZmZmYUQGZmZmZmZhJAMzMzMzMzFUAAAAAAAAAUQA==",
          "dtype": "f8"
         },
         "yaxis": "y"
        },
        {
         "hovertemplate": "species=versicolor<br>sepal_width=%{x}<br>sepal_length=%{y}<extra></extra>",
         "legendgroup": "versicolor",
         "marker": {
          "color": "#EF553B",
          "symbol": "circle"
         },
         "mode": "markers",
         "name": "versicolor",
         "orientation": "v",
         "showlegend": true,
         "type": "scatter",
         "x": {
          "bdata": "mpmZmZmZCUCamZmZmZkJQM3MzMzMzAhAZmZmZmZmAkBmZmZmZmYGQGZmZmZmZgZAZmZmZmZmCkAzMzMzMzMDQDMzMzMzMwdAmpmZmZmZBUAAAAAAAAAAQAAAAAAAAAhAmpmZmZmZAUAzMzMzMzMHQDMzMzMzMwdAzczMzMzMCEAAAAAAAAAIQJqZmZmZmQVAmpmZmZmZAUAAAAAAAAAEQJqZmZmZmQlAZmZmZmZmBkAAAAAAAAAEQGZmZmZmZgZAMzMzMzMzB0AAAAAAAAAIQGZmZmZmZgZAAAAAAAAACEAzMzMzMzMHQM3MzMzMzARAMzMzMzMzA0AzMzMzMzMDQJqZmZmZmQVAmpmZmZmZBUAAAAAAAAAIQDMzMzMzMwtAzczMzMzMCEBmZmZmZmYCQAAAAAAAAAhAAAAAAAAABEDNzMzMzMwEQAAAAAAAAAhAzczMzMzMBEBmZmZmZmYCQJqZmZmZmQVAAAAAAAAACEAzMzMzMzMHQDMzMzMzMwdAAAAAAAAABEBmZmZmZmYGQA==",
          "dtype": "f8"
         },
         "xaxis": "x",
         "y": {
          "bdata": "AAAAAAAAHECamZmZmZkZQJqZmZmZmRtAAAAAAAAAFkAAAAAAAAAaQM3MzMzMzBZAMzMzMzMzGUCamZmZmZkTQGZmZmZmZhpAzczMzMzMFEAAAAAAAAAUQJqZmZmZmRdAAAAAAAAAGEBmZmZmZmYYQGZmZmZmZhZAzczMzMzMGkBmZmZmZmYWQDMzMzMzMxdAzczMzMzMGEBmZmZmZmYWQJqZmZmZmRdAZmZmZmZmGEAzMzMzMzMZQGZmZmZmZhhAmpmZmZmZGUBmZmZmZmYaQDMzMzMzMxtAzczMzMzMGkAAAAAAAAAYQM3MzMzMzBZAAAAAAAAAFkAAAAAAAAAWQDMzMzMzMxdAAAAAAAAAGECamZmZmZkVQAAAAAAAABhAzczMzMzMGkAzMzMzMzMZQGZmZmZmZhZAAAAAAAAAFkAAAAAAAAAWQGZmZmZmZhhAMzMzMzMzF0AAAAAAAAAUQGZmZmZmZhZAzczMzMzMFkDNzMzMzMwWQM3MzMzMzBhAZmZmZmZmFEDNzMzMzMwWQA==",
          "dtype": "f8"
         },
         "yaxis": "y"
        },
        {
         "hovertemplate": "species=virginica<br>sepal_width=%{x}<br>sepal_length=%{y}<extra></extra>",
         "legendgroup": "virginica",
         "marker": {
          "color": "#00cc96",
          "symbol": "circle"
         },
         "mode": "markers",
         "name": "virginica",
         "orientation": "v",
         "showlegend": true,
         "type": "scatter",
         "x": {
          "bdata": "ZmZmZmZmCkCamZmZmZkFQAAAAAAAAAhAMzMzMzMzB0AAAAAAAAAIQAAAAAAAAAhAAAAAAAAABEAzMzMzMzMHQAAAAAAAAARAzczMzMzMDECamZmZmZkJQJqZmZmZmQVAAAAAAAAACEAAAAAAAAAEQGZmZmZmZgZAmpmZmZmZCUAAAAAAAAAIQGZmZmZmZg5AzczMzMzMBECamZmZmZkBQJqZmZmZmQlAZmZmZmZmBkBmZmZmZmYGQJqZmZmZmQVAZmZmZmZmCkCamZmZmZkJQGZmZmZmZgZAAAAAAAAACEBmZmZmZmYGQAAAAAAAAAhAZmZmZmZmBkBmZmZmZmYOQGZmZmZmZgZAZmZmZmZmBkDNzMzMzMwEQAAAAAAAAAhAMzMzMzMzC0DNzMzMzMwIQAAAAAAAAAhAzczMzMzMCEDNzMzMzMwIQM3MzMzMzAhAmpmZmZmZBUCamZmZmZkJQGZmZmZmZgpAAAAAAAAACEAAAAAAAAAEQAAAAAAAAAhAMzMzMzMzC0AAAAAAAAAIQA==",
          "dtype": "f8"
         },
         "xaxis": "x",
         "y": {
          "bdata": "MzMzMzMzGUAzMzMzMzMXQGZmZmZmZhxAMzMzMzMzGUAAAAAAAAAaQGZmZmZmZh5AmpmZmZmZE0AzMzMzMzMdQM3MzMzMzBpAzczMzMzMHEAAAAAAAAAaQJqZmZmZmRlAMzMzMzMzG0DNzMzMzMwWQDMzMzMzMxdAmpmZmZmZGUAAAAAAAAAaQM3MzMzMzB5AzczMzMzMHkAAAAAAAAAYQJqZmZmZmRtAZmZmZmZmFkDNzMzMzMweQDMzMzMzMxlAzczMzMzMGkDNzMzMzMwcQM3MzMzMzBhAZmZmZmZmGECamZmZmZkZQM3MzMzMzBxAmpmZmZmZHUCamZmZmZkfQJqZmZmZmRlAMzMzMzMzGUBmZmZmZmYYQM3MzMzMzB5AMzMzMzMzGUCamZmZmZkZQAAAAAAAABhAmpmZmZmZG0DNzMzMzMwaQJqZmZmZmRtAMzMzMzMzF0AzMzMzMzMbQM3MzMzMzBpAzczMzMzMGkAzMzMzMzMZQAAAAAAAABpAzczMzMzMGECamZmZmZkXQA==",
          "dtype": "f8"
         },
         "yaxis": "y"
        }
       ],
       "layout": {
        "legend": {
         "title": {
          "text": "species"
         },
         "tracegroupgap": 0
        },
        "margin": {
         "t": 60
        },
        "template": {
         "data": {
          "bar": [
           {
            "error_x": {
             "color": "#2a3f5f"
            },
            "error_y": {
             "color": "#2a3f5f"
            },
            "marker": {
             "line": {
              "color": "#E5ECF6",
              "width": 0.5
             },
             "pattern": {
              "fillmode": "overlay",
              "size": 10,
              "solidity": 0.2
             }
            },
            "type": "bar"
           }
          ],
          "barpolar": [
           {
            "marker": {
             "line": {
              "color": "#E5ECF6",
              "width": 0.5
             },
             "pattern": {
              "fillmode": "overlay",
              "size": 10,
              "solidity": 0.2
             }
            },
            "type": "barpolar"
           }
          ],
          "carpet": [
           {
            "aaxis": {
             "endlinecolor": "#2a3f5f",
             "gridcolor": "white",
             "linecolor": "white",
             "minorgridcolor": "white",
             "startlinecolor": "#2a3f5f"
            },
            "baxis": {
             "endlinecolor": "#2a3f5f",
             "gridcolor": "white",
             "linecolor": "white",
             "minorgridcolor": "white",
             "startlinecolor": "#2a3f5f"
            },
            "type": "carpet"
           }
          ],
          "choropleth": [
           {
            "colorbar": {
             "outlinewidth": 0,
             "ticks": ""
            },
            "type": "choropleth"
           }
          ],
          "contour": [
           {
            "colorbar": {
             "outlinewidth": 0,
             "ticks": ""
            },
            "colorscale": [
             [
              0,
              "#0d0887"
             ],
             [
              0.1111111111111111,
              "#46039f"
             ],
             [
              0.2222222222222222,
              "#7201a8"
             ],
             [
              0.3333333333333333,
              "#9c179e"
             ],
             [
              0.4444444444444444,
              "#bd3786"
             ],
             [
              0.5555555555555556,
              "#d8576b"
             ],
             [
              0.6666666666666666,
              "#ed7953"
             ],
             [
              0.7777777777777778,
              "#fb9f3a"
             ],
             [
              0.8888888888888888,
              "#fdca26"
             ],
             [
              1,
              "#f0f921"
             ]
            ],
            "type": "contour"
           }
          ],
          "contourcarpet": [
           {
            "colorbar": {
             "outlinewidth": 0,
             "ticks": ""
            },
            "type": "contourcarpet"
           }
          ],
          "heatmap": [
           {
            "colorbar": {
             "outlinewidth": 0,
             "ticks": ""
            },
            "colorscale": [
             [
              0,
              "#0d0887"
             ],
             [
              0.1111111111111111,
              "#46039f"
             ],
             [
              0.2222222222222222,
              "#7201a8"
             ],
             [
              0.3333333333333333,
              "#9c179e"
             ],
             [
              0.4444444444444444,
              "#bd3786"
             ],
             [
              0.5555555555555556,
              "#d8576b"
             ],
             [
              0.6666666666666666,
              "#ed7953"
             ],
             [
              0.7777777777777778,
              "#fb9f3a"
             ],
             [
              0.8888888888888888,
              "#fdca26"
             ],
             [
              1,
              "#f0f921"
             ]
            ],
            "type": "heatmap"
           }
          ],
          "histogram": [
           {
            "marker": {
             "pattern": {
              "fillmode": "overlay",
              "size": 10,
              "solidity": 0.2
             }
            },
            "type": "histogram"
           }
          ],
          "histogram2d": [
           {
            "colorbar": {
             "outlinewidth": 0,
             "ticks": ""
            },
            "colorscale": [
             [
              0,
              "#0d0887"
             ],
             [
              0.1111111111111111,
              "#46039f"
             ],
             [
              0.2222222222222222,
              "#7201a8"
             ],
             [
              0.3333333333333333,
              "#9c179e"
             ],
             [
              0.4444444444444444,
              "#bd3786"
             ],
             [
              0.5555555555555556,
              "#d8576b"
             ],
             [
              0.6666666666666666,
              "#ed7953"
             ],
             [
              0.7777777777777778,
              "#fb9f3a"
             ],
             [
              0.8888888888888888,
              "#fdca26"
             ],
             [
              1,
              "#f0f921"
             ]
            ],
            "type": "histogram2d"
           }
          ],
          "histogram2dcontour": [
           {
            "colorbar": {
             "outlinewidth": 0,
             "ticks": ""
            },
            "colorscale": [
             [
              0,
              "#0d0887"
             ],
             [
              0.1111111111111111,
              "#46039f"
             ],
             [
              0.2222222222222222,
              "#7201a8"
             ],
             [
              0.3333333333333333,
              "#9c179e"
             ],
             [
              0.4444444444444444,
              "#bd3786"
             ],
             [
              0.5555555555555556,
              "#d8576b"
             ],
             [
              0.6666666666666666,
              "#ed7953"
             ],
             [
              0.7777777777777778,
              "#fb9f3a"
             ],
             [
              0.8888888888888888,
              "#fdca26"
             ],
             [
              1,
              "#f0f921"
             ]
            ],
            "type": "histogram2dcontour"
           }
          ],
          "mesh3d": [
           {
            "colorbar": {
             "outlinewidth": 0,
             "ticks": ""
            },
            "type": "mesh3d"
           }
          ],
          "parcoords": [
           {
            "line": {
             "colorbar": {
              "outlinewidth": 0,
              "ticks": ""
             }
            },
            "type": "parcoords"
           }
          ],
          "pie": [
           {
            "automargin": true,
            "type": "pie"
           }
          ],
          "scatter": [
           {
            "fillpattern": {
             "fillmode": "overlay",
             "size": 10,
             "solidity": 0.2
            },
            "type": "scatter"
           }
          ],
          "scatter3d": [
           {
            "line": {
             "colorbar": {
              "outlinewidth": 0,
              "ticks": ""
             }
            },
            "marker": {
             "colorbar": {
              "outlinewidth": 0,
              "ticks": ""
             }
            },
            "type": "scatter3d"
           }
          ],
          "scattercarpet": [
           {
            "marker": {
             "colorbar": {
              "outlinewidth": 0,
              "ticks": ""
             }
            },
            "type": "scattercarpet"
           }
          ],
          "scattergeo": [
           {
            "marker": {
             "colorbar": {
              "outlinewidth": 0,
              "ticks": ""
             }
            },
            "type": "scattergeo"
           }
          ],
          "scattergl": [
           {
            "marker": {
             "colorbar": {
              "outlinewidth": 0,
              "ticks": ""
             }
            },
            "type": "scattergl"
           }
          ],
          "scattermap": [
           {
            "marker": {
             "colorbar": {
              "outlinewidth": 0,
              "ticks": ""
             }
            },
            "type": "scattermap"
           }
          ],
          "scattermapbox": [
           {
            "marker": {
             "colorbar": {
              "outlinewidth": 0,
              "ticks": ""
             }
            },
            "type": "scattermapbox"
           }
          ],
          "scatterpolar": [
           {
            "marker": {
             "colorbar": {
              "outlinewidth": 0,
              "ticks": ""
             }
            },
            "type": "scatterpolar"
           }
          ],
          "scatterpolargl": [
           {
            "marker": {
             "colorbar": {
              "outlinewidth": 0,
              "ticks": ""
             }
            },
            "type": "scatterpolargl"
           }
          ],
          "scatterternary": [
           {
            "marker": {
             "colorbar": {
              "outlinewidth": 0,
              "ticks": ""
             }
            },
            "type": "scatterternary"
           }
          ],
          "surface": [
           {
            "colorbar": {
             "outlinewidth": 0,
             "ticks": ""
            },
            "colorscale": [
             [
              0,
              "#0d0887"
             ],
             [
              0.1111111111111111,
              "#46039f"
             ],
             [
              0.2222222222222222,
              "#7201a8"
             ],
             [
              0.3333333333333333,
              "#9c179e"
             ],
             [
              0.4444444444444444,
              "#bd3786"
             ],
             [
              0.5555555555555556,
              "#d8576b"
             ],
             [
              0.6666666666666666,
              "#ed7953"
             ],
             [
              0.7777777777777778,
              "#fb9f3a"
             ],
             [
              0.8888888888888888,
              "#fdca26"
             ],
             [
              1,
              "#f0f921"
             ]
            ],
            "type": "surface"
           }
          ],
          "table": [
           {
            "cells": {
             "fill": {
              "color": "#EBF0F8"
             },
             "line": {
              "color": "white"
             }
            },
            "header": {
             "fill": {
              "color": "#C8D4E3"
             },
             "line": {
              "color": "white"
             }
            },
            "type": "table"
           }
          ]
         },
         "layout": {
          "annotationdefaults": {
           "arrowcolor": "#2a3f5f",
           "arrowhead": 0,
           "arrowwidth": 1
          },
          "autotypenumbers": "strict",
          "coloraxis": {
           "colorbar": {
            "outlinewidth": 0,
            "ticks": ""
           }
          },
          "colorscale": {
           "diverging": [
            [
             0,
             "#8e0152"
            ],
            [
             0.1,
             "#c51b7d"
            ],
            [
             0.2,
             "#de77ae"
            ],
            [
             0.3,
             "#f1b6da"
            ],
            [
             0.4,
             "#fde0ef"
            ],
            [
             0.5,
             "#f7f7f7"
            ],
            [
             0.6,
             "#e6f5d0"
            ],
            [
             0.7,
             "#b8e186"
            ],
            [
             0.8,
             "#7fbc41"
            ],
            [
             0.9,
             "#4d9221"
            ],
            [
             1,
             "#276419"
            ]
           ],
           "sequential": [
            [
             0,
             "#0d0887"
            ],
            [
             0.1111111111111111,
             "#46039f"
            ],
            [
             0.2222222222222222,
             "#7201a8"
            ],
            [
             0.3333333333333333,
             "#9c179e"
            ],
            [
             0.4444444444444444,
             "#bd3786"
            ],
            [
             0.5555555555555556,
             "#d8576b"
            ],
            [
             0.6666666666666666,
             "#ed7953"
            ],
            [
             0.7777777777777778,
             "#fb9f3a"
            ],
            [
             0.8888888888888888,
             "#fdca26"
            ],
            [
             1,
             "#f0f921"
            ]
           ],
           "sequentialminus": [
            [
             0,
             "#0d0887"
            ],
            [
             0.1111111111111111,
             "#46039f"
            ],
            [
             0.2222222222222222,
             "#7201a8"
            ],
            [
             0.3333333333333333,
             "#9c179e"
            ],
            [
             0.4444444444444444,
             "#bd3786"
            ],
            [
             0.5555555555555556,
             "#d8576b"
            ],
            [
             0.6666666666666666,
             "#ed7953"
            ],
            [
             0.7777777777777778,
             "#fb9f3a"
            ],
            [
             0.8888888888888888,
             "#fdca26"
            ],
            [
             1,
             "#f0f921"
            ]
           ]
          },
          "colorway": [
           "#636efa",
           "#EF553B",
           "#00cc96",
           "#ab63fa",
           "#FFA15A",
           "#19d3f3",
           "#FF6692",
           "#B6E880",
           "#FF97FF",
           "#FECB52"
          ],
          "font": {
           "color": "#2a3f5f"
          },
          "geo": {
           "bgcolor": "white",
           "lakecolor": "white",
           "landcolor": "#E5ECF6",
           "showlakes": true,
           "showland": true,
           "subunitcolor": "white"
          },
          "hoverlabel": {
           "align": "left"
          },
          "hovermode": "closest",
          "mapbox": {
           "style": "light"
          },
          "paper_bgcolor": "white",
          "plot_bgcolor": "#E5ECF6",
          "polar": {
           "angularaxis": {
            "gridcolor": "white",
            "linecolor": "white",
            "ticks": ""
           },
           "bgcolor": "#E5ECF6",
           "radialaxis": {
            "gridcolor": "white",
            "linecolor": "white",
            "ticks": ""
           }
          },
          "scene": {
           "xaxis": {
            "backgroundcolor": "#E5ECF6",
            "gridcolor": "white",
            "gridwidth": 2,
            "linecolor": "white",
            "showbackground": true,
            "ticks": "",
            "zerolinecolor": "white"
           },
           "yaxis": {
            "backgroundcolor": "#E5ECF6",
            "gridcolor": "white",
            "gridwidth": 2,
            "linecolor": "white",
            "showbackground": true,
            "ticks": "",
            "zerolinecolor": "white"
           },
           "zaxis": {
            "backgroundcolor": "#E5ECF6",
            "gridcolor": "white",
            "gridwidth": 2,
            "linecolor": "white",
            "showbackground": true,
            "ticks": "",
            "zerolinecolor": "white"
           }
          },
          "shapedefaults": {
           "line": {
            "color": "#2a3f5f"
           }
          },
          "ternary": {
           "aaxis": {
            "gridcolor": "white",
            "linecolor": "white",
            "ticks": ""
           },
           "baxis": {
            "gridcolor": "white",
            "linecolor": "white",
            "ticks": ""
           },
           "bgcolor": "#E5ECF6",
           "caxis": {
            "gridcolor": "white",
            "linecolor": "white",
            "ticks": ""
           }
          },
          "title": {
           "x": 0.05
          },
          "xaxis": {
           "automargin": true,
           "gridcolor": "white",
           "linecolor": "white",
           "ticks": "",
           "title": {
            "standoff": 15
           },
           "zerolinecolor": "white",
           "zerolinewidth": 2
          },
          "yaxis": {
           "automargin": true,
           "gridcolor": "white",
           "linecolor": "white",
           "ticks": "",
           "title": {
            "standoff": 15
           },
           "zerolinecolor": "white",
           "zerolinewidth": 2
          }
         }
        },
        "xaxis": {
         "anchor": "y",
         "domain": [
          0,
          1
         ],
         "title": {
          "text": "sepal_width"
         }
        },
        "yaxis": {
         "anchor": "x",
         "domain": [
          0,
          1
         ],
         "title": {
          "text": "sepal_length"
         }
        }
       }
      }
     },
     "metadata": {},
     "output_type": "display_data"
    }
   ],
   "source": [
    "import plotly.express as px\n",
    "\n",
    "data = px.data.iris()\n",
    "fig = px.scatter(data, x=\"sepal_width\", y=\"sepal_length\", color=\"species\")\n",
    "fig.show()"
   ]
  },
  {
   "cell_type": "markdown",
   "id": "e671b354",
   "metadata": {},
   "source": [
    "***15.How does NumPy handle multidimensional arrays?***\n",
    "\n",
    "NumPy handles multidimensional arrays using its core data structure called ndarray (N-dimensional array). It can represent data in 1D, 2D, 3D, or higher dimensions efficiently, making it ideal for numerical and scientific computing.\n",
    "\n",
    "How NumPy handles multidimensional arrays:\n",
    "\n",
    "* ndarray object – Stores data in a contiguous block of memory, which makes access fast.\n",
    "* Shape attribute – Defines the number of elements along each axis (e.g., a 3×4 array has shape (3,4)).\n",
    "* Axes (dimensions) – Each dimension is called an axis (1D has 1 axis, 2D has 2 axes, etc.).\n",
    "* Indexing and slicing – Allows easy access to elements using row/column indexing.\n",
    "* Vectorized operations – Supports element-wise operations across all dimensions without explicit loops.\n",
    "* Functions for reshaping – Provides methods like reshape(), flatten(), and transpose() to modify dimensions."
   ]
  },
  {
   "cell_type": "code",
   "execution_count": 12,
   "id": "e3a4c519",
   "metadata": {},
   "outputs": [
    {
     "name": "stdout",
     "output_type": "stream",
     "text": [
      "2\n",
      "(2, 3)\n",
      "6\n"
     ]
    }
   ],
   "source": [
    "import numpy as np\n",
    "\n",
    "# Creating a 2D array\n",
    "arr = np.array([[1, 2, 3], [4, 5, 6]])\n",
    "\n",
    "print(arr.ndim)   # Number of dimensions → 2\n",
    "print(arr.shape)  # Shape of array → (2, 3)\n",
    "print(arr[1, 2])  # Access element → 6\n"
   ]
  },
  {
   "cell_type": "markdown",
   "id": "1722ed3b",
   "metadata": {},
   "source": [
    "***16.What is the role of Bokeh in data visualization?***\n",
    "\n",
    "Bokeh is a powerful Python library for interactive data visualization. Its main role is to help users create dynamic, web-ready, and interactive charts that can be easily embedded in web applications or dashboards.\n",
    "\n",
    "Roles of Bokeh in Data Visualization\n",
    "\n",
    "* Interactive Visualizations – Supports zooming, panning, tooltips, and selections, unlike static libraries.\n",
    "* Web Integration – Can generate visualizations in HTML, JavaScript, and JSON, making it suitable for web-based dashboards.\n",
    "* Scalable for Large Data – Handles streaming and real-time data efficiently.\n",
    "* Wide Range of Plots – Provides line charts, bar charts, scatter plots, heatmaps, and advanced layouts.\n",
    "* High Customization – Offers themes, styling, and linking multiple plots together.\n",
    "* Easy to Use – Syntax is simpler compared to D3.js or JavaScript libraries for interactive graphics."
   ]
  },
  {
   "cell_type": "code",
   "execution_count": 13,
   "id": "c13b4c85",
   "metadata": {},
   "outputs": [],
   "source": [
    "from bokeh.plotting import figure, show\n",
    "\n",
    "# Create a simple interactive plot\n",
    "p = figure(title=\"Bokeh Example\", x_axis_label=\"X-Axis\", y_axis_label=\"Y-Axis\")\n",
    "\n",
    "p.line([1, 2, 3, 4, 5], [6, 7, 2, 4, 5], line_width=2, color=\"green\", legend_label=\"Line\")\n",
    "\n",
    "show(p)\n"
   ]
  },
  {
   "cell_type": "markdown",
   "id": "d18d4b35",
   "metadata": {},
   "source": [
    "***17.Explain the difference between apply() and map() in Pandas.***\n",
    "\n",
    "| Feature           | **map()**                                                          | **apply()**                                                                                     |\n",
    "| ----------------- | ------------------------------------------------------------------ | ----------------------------------------------------------------------------------------------- |\n",
    "| **Applicable to** | Series only                                                        | Series and DataFrame                                                                            |\n",
    "| **Function type** | Element-wise function                                              | Can apply element-wise, row-wise, or column-wise                                                |\n",
    "| **Return type**   | Returns a Series                                                   | Returns Series or DataFrame depending on context                                                |\n",
    "| **Flexibility**   | Less flexible, mainly used for simple element-wise transformations | More flexible, can use custom functions for aggregation, transformations, or complex operations |\n",
    "| **Example Usage** | Transform values of a single column                                | Apply a function to multiple columns or rows                                                    |\n"
   ]
  },
  {
   "cell_type": "code",
   "execution_count": 14,
   "id": "c3249aa8",
   "metadata": {},
   "outputs": [
    {
     "name": "stdout",
     "output_type": "stream",
     "text": [
      "   Age  Age_plus_5  Age_squared\n",
      "0   21          26          441\n",
      "1   25          30          625\n",
      "2   22          27          484\n"
     ]
    }
   ],
   "source": [
    "import pandas as pd\n",
    "\n",
    "df = pd.DataFrame({'Age': [21, 25, 22]})\n",
    "\n",
    "# Using map() on a Series\n",
    "df['Age_plus_5'] = df['Age'].map(lambda x: x + 5)\n",
    "\n",
    "# Using apply() on DataFrame\n",
    "df['Age_squared'] = df.apply(lambda row: row['Age']**2, axis=1)\n",
    "\n",
    "print(df)"
   ]
  },
  {
   "cell_type": "markdown",
   "id": "78124448",
   "metadata": {},
   "source": [
    "***18.What are some advanced features of NumPy?***\n",
    "\n",
    "NumPy is not just for basic arrays and arithmetic; it provides several advanced features that make it a powerful library for scientific computing and data analysis.\n",
    "\n",
    "Advanced Features of NumPy:\n",
    "\n",
    "* Broadcasting – Allows operations on arrays of different shapes without explicit loops.\n",
    "* Vectorized operations – Perform element-wise operations efficiently on large datasets.\n",
    "* Linear Algebra Functions – Includes matrix multiplication, eigenvalues, determinants, inverses, and SVD.\n",
    "* Random Number Generation – Supports uniform, normal, and other distributions for simulations and experiments.\n",
    "* Fourier Transform and Signal Processing – Functions like np.fft for frequency domain analysis.\n",
    "* Masked Arrays – Handle and compute with arrays containing missing or invalid data.\n",
    "* Memory-efficient Multidimensional Arrays – Supports n-dimensional arrays and structured arrays.\n",
    "* Advanced Indexing and Slicing – Boolean indexing, fancy indexing, and multidimensional slicing.\n",
    "* Integration with C/C++ and Fortran – For high-performance computations.\n",
    "* Polynomials and Mathematical Functions – Functions for calculus, exponentials, logarithms, and trigonometry."
   ]
  },
  {
   "cell_type": "markdown",
   "id": "6ff8fdf2",
   "metadata": {},
   "source": [
    "***19.How does Pandas simplify time series analysis?***\n",
    "\n",
    "Pandas provides powerful tools for handling, analyzing, and manipulating time series data, making it easier to work with dates, times, and time-indexed datasets.\n",
    "\n",
    "Ways Pandas simplifies time series analysis:\n",
    "\n",
    "* Datetime Data Type – Automatically recognizes and handles date and time data using datetime64 and Timestamp.\n",
    "* Date Range Generation – Functions like date_range() allow creating sequences of dates easily.\n",
    "* Resampling – Aggregate data to different frequencies (e.g., daily → monthly) using resample().\n",
    "* Time Shifts and Lagging – Shift or lag data using shift() for trend analysis.\n",
    "* Rolling and Window Functions – Compute moving averages, rolling sums, and other statistics.\n",
    "* Indexing by Time – Time-based indexing allows easy slicing and selection of data by date or period.\n",
    "* Handling Missing Time Data – Functions like asfreq() and interpolation help fill missing dates or times."
   ]
  },
  {
   "cell_type": "code",
   "execution_count": 16,
   "id": "5ecba6b3",
   "metadata": {},
   "outputs": [
    {
     "name": "stdout",
     "output_type": "stream",
     "text": [
      "2025-01-01    11.0\n",
      "2025-01-03    14.5\n",
      "2025-01-05    13.0\n",
      "Freq: 2D, dtype: float64\n"
     ]
    }
   ],
   "source": [
    "import pandas as pd\n",
    "\n",
    "# Create a time series\n",
    "dates = pd.date_range('2025-01-01', periods=5, freq='D')\n",
    "data = pd.Series([10, 12, 15, 14, 13], index=dates)\n",
    "\n",
    "# Resample to 2-day frequency and calculate mean\n",
    "print(data.resample('2D').mean())\n"
   ]
  },
  {
   "cell_type": "markdown",
   "id": "19d44d1a",
   "metadata": {},
   "source": [
    "***20.What is the role of a pivot table in Pandas?***\n",
    "\n",
    "A pivot table in Pandas is a data summarization tool that reshapes and aggregates data for easy analysis. It allows you to group data by one or more keys and compute aggregate statistics (like sum, mean, count) in a table format.\n",
    "\n",
    "Roles of a pivot table:\n",
    "\n",
    "* Summarizes large datasets to highlight patterns or trends.\n",
    "* Aggregates data using functions like sum(), mean(), count(), etc.\n",
    "* Reshapes data by turning unique values of one column into columns or indices.\n",
    "* Supports multiple grouping levels, allowing hierarchical analysis.\n",
    "* Helps in reporting and data analysis without writing complex loops."
   ]
  },
  {
   "cell_type": "code",
   "execution_count": 17,
   "id": "d6d7f4cd",
   "metadata": {},
   "outputs": [
    {
     "name": "stdout",
     "output_type": "stream",
     "text": [
      "             Salary\n",
      "Department         \n",
      "Finance     55000.0\n",
      "HR          46000.0\n",
      "IT          55000.0\n"
     ]
    }
   ],
   "source": [
    "import pandas as pd\n",
    "\n",
    "data = {'Department': ['IT', 'IT', 'HR', 'HR', 'Finance'],\n",
    "        'Employee': ['A', 'B', 'C', 'D', 'E'],\n",
    "        'Salary': [50000, 60000, 45000, 47000, 55000]}\n",
    "\n",
    "df = pd.DataFrame(data)\n",
    "\n",
    "# Create pivot table to find average salary per department\n",
    "pivot = df.pivot_table(values='Salary', index='Department', aggfunc='mean')\n",
    "print(pivot)\n"
   ]
  },
  {
   "cell_type": "markdown",
   "id": "cff98390",
   "metadata": {},
   "source": [
    "***21.Why is NumPy’s array slicing faster than Python’s list slicing?***\n",
    "\n",
    "NumPy’s array slicing is faster than Python’s list slicing because of its internal memory structure and optimized implementation.\n",
    "\n",
    "Reasons:\n",
    "\n",
    "* Contiguous Memory Storage – NumPy arrays store data in a single continuous block of memory, whereas Python lists store references to objects scattered in memory.\n",
    "* Homogeneous Data Type – All elements in a NumPy array are of the same type, allowing vectorized operations and eliminating type checking overhead.\n",
    "* Views Instead of Copies – Slicing a NumPy array often returns a view of the data, not a copy, so operations avoid unnecessary memory allocation. Python list slicing always creates a new list, which is slower.\n",
    "* Low-level Optimizations – NumPy is implemented in C and Fortran, which makes array operations highly efficient."
   ]
  },
  {
   "cell_type": "code",
   "execution_count": 18,
   "id": "dab86d0e",
   "metadata": {},
   "outputs": [
    {
     "name": "stdout",
     "output_type": "stream",
     "text": [
      "NumPy slicing: 0.00010347366333007812\n",
      "Python list slicing: 8.654594421386719e-05\n"
     ]
    }
   ],
   "source": [
    "import numpy as np\n",
    "import time\n",
    "\n",
    "# NumPy array slicing\n",
    "arr = np.arange(1000000)\n",
    "start = time.time()\n",
    "sliced_arr = arr[1000:2000]\n",
    "end = time.time()\n",
    "print(\"NumPy slicing:\", end - start)\n",
    "\n",
    "# Python list slicing\n",
    "lst = list(range(1000000))\n",
    "start = time.time()\n",
    "sliced_lst = lst[1000:2000]\n",
    "end = time.time()\n",
    "print(\"Python list slicing:\", end - start)\n"
   ]
  },
  {
   "cell_type": "markdown",
   "id": "eb018f73",
   "metadata": {},
   "source": [
    "***22.What are some common use cases for Seaborn?***\n",
    "\n",
    "Seaborn is a Python data visualization library that provides high-level functions for statistical plotting. It is widely used for exploratory data analysis (EDA) and presenting data insights.\n",
    "\n",
    "Common Use Cases of Seaborn:\n",
    "\n",
    "* Visualizing distributions – Using plots like histplot(), kdeplot(), and distplot() to analyze the distribution of data.\n",
    "* Comparing categories – Using boxplot(), violinplot(), and barplot() to compare data across categories.\n",
    "* Analyzing relationships – Using scatterplot(), regplot(), and pairplot() to study correlations between variables.\n",
    "* Correlation matrices – Using heatmap() to visualize correlation between multiple variables.\n",
    "* Time series analysis – Visualizing trends over time using line plots and color-coded plots.\n",
    "* Multivariate analysis – Using FacetGrid() and catplot() to plot multiple subsets of data simultaneously.\n",
    "* Aesthetic visualizations – Provides attractive themes, color palettes, and styling for reports and presentations."
   ]
  },
  {
   "cell_type": "code",
   "execution_count": 19,
   "id": "5de09d6c",
   "metadata": {},
   "outputs": [
    {
     "data": {
      "text/plain": [
       "<Axes: xlabel='day', ylabel='total_bill'>"
      ]
     },
     "execution_count": 19,
     "metadata": {},
     "output_type": "execute_result"
    },
    {
     "data": {
      "image/png": "[encoded data removed]",
      "text/plain": [
       "<Figure size 640x480 with 1 Axes>"
      ]
     },
     "metadata": {},
     "output_type": "display_data"
    }
   ],
   "source": [
    "import seaborn as sns\n",
    "import pandas as pd\n",
    "\n",
    "df = sns.load_dataset(\"tips\")\n",
    "sns.boxplot(x=\"day\", y=\"total_bill\", data=df)\n"
   ]
  },
  {
   "cell_type": "markdown",
   "id": "68c4de0b",
   "metadata": {},
   "source": [
    "### Practical Questions"
   ]
  },
  {
   "cell_type": "markdown",
   "id": "b8610df2",
   "metadata": {},
   "source": [
    "***1. How do you create a 2D NumPy array and calculate the sum of each row?***"
   ]
  },
  {
   "cell_type": "code",
   "execution_count": 20,
   "id": "2fc89c13",
   "metadata": {},
   "outputs": [
    {
     "name": "stdout",
     "output_type": "stream",
     "text": [
      "[ 6 15 24]\n"
     ]
    }
   ],
   "source": [
    "import numpy as np\n",
    "\n",
    "# Create a 2D array\n",
    "arr = np.array([[1, 2, 3],\n",
    "                [4, 5, 6],\n",
    "                [7, 8, 9]])\n",
    "\n",
    "# Calculate sum of each row\n",
    "row_sums = arr.sum(axis=1)\n",
    "print(row_sums)\n"
   ]
  },
  {
   "cell_type": "markdown",
   "id": "f2790b0f",
   "metadata": {},
   "source": [
    "\n",
    "***2.Write a Pandas script to find the mean of a specific column in a DataFrame.***"
   ]
  },
  {
   "cell_type": "code",
   "execution_count": 21,
   "id": "519bbc3c",
   "metadata": {},
   "outputs": [
    {
     "name": "stdout",
     "output_type": "stream",
     "text": [
      "Mean of Marks column: 85.25\n"
     ]
    }
   ],
   "source": [
    "import pandas as pd\n",
    "\n",
    "# Create a sample DataFrame\n",
    "data = {'Name': ['Amit', 'Riya', 'Sohan', 'Priya'],\n",
    "        'Age': [21, 25, 22, 24],\n",
    "        'Marks': [85, 90, 78, 88]}\n",
    "\n",
    "df = pd.DataFrame(data)\n",
    "\n",
    "# Find the mean of the 'Marks' column\n",
    "mean_marks = df['Marks'].mean()\n",
    "\n",
    "print(\"Mean of Marks column:\", mean_marks)\n"
   ]
  },
  {
   "cell_type": "markdown",
   "id": "62f006ea",
   "metadata": {},
   "source": [
    "***3.Create a scatter plot using Matplotlib.***"
   ]
  },
  {
   "cell_type": "code",
   "execution_count": 22,
   "id": "6872502d",
   "metadata": {},
   "outputs": [
    {
     "data": {
      "image/png": "[encoded data removed]",
      "text/plain": [
       "<Figure size 640x480 with 1 Axes>"
      ]
     },
     "metadata": {},
     "output_type": "display_data"
    }
   ],
   "source": [
    "import matplotlib.pyplot as plt\n",
    "\n",
    "# Sample data\n",
    "x = [5, 7, 8, 7, 6, 9, 5, 4]\n",
    "y = [99, 86, 87, 88, 100, 86, 103, 87]\n",
    "\n",
    "# Create scatter plot\n",
    "plt.scatter(x, y, color='blue', marker='o')  # marker='o' for circle\n",
    "\n",
    "# Add title and labels\n",
    "plt.title(\"Scatter Plot Example\")\n",
    "plt.xlabel(\"X-axis\")\n",
    "plt.ylabel(\"Y-axis\")\n",
    "\n",
    "# Show plot\n",
    "plt.show()\n"
   ]
  },
  {
   "cell_type": "markdown",
   "id": "4b1104a8",
   "metadata": {},
   "source": [
    "***4.How do you calculate the correlation matrix using Seaborn and visualize it with a heatmap.***"
   ]
  },
  {
   "cell_type": "code",
   "execution_count": 23,
   "id": "2f207686",
   "metadata": {},
   "outputs": [
    {
     "data": {
      "image/png": "[encoded data removed]",
      "text/plain": [
       "<Figure size 640x480 with 2 Axes>"
      ]
     },
     "metadata": {},
     "output_type": "display_data"
    }
   ],
   "source": [
    "import pandas as pd\n",
    "import seaborn as sns\n",
    "import matplotlib.pyplot as plt\n",
    "\n",
    "# Sample DataFrame\n",
    "data = {'Math': [85, 90, 78, 88, 92],\n",
    "        'Science': [80, 95, 75, 85, 89],\n",
    "        'English': [78, 88, 80, 82, 85]}\n",
    "\n",
    "df = pd.DataFrame(data)\n",
    "\n",
    "# Calculate correlation matrix\n",
    "corr_matrix = df.corr()\n",
    "\n",
    "# Visualize correlation matrix with heatmap\n",
    "sns.heatmap(corr_matrix, annot=True, cmap=\"YlGnBu\")\n",
    "plt.title(\"Correlation Heatmap\")\n",
    "plt.show()\n"
   ]
  },
  {
   "cell_type": "markdown",
   "id": "90222b7b",
   "metadata": {},
   "source": [
    "\n",
    "***5.Generate a bar plot using Plotly.***"
   ]
  },
  {
   "cell_type": "code",
   "execution_count": 24,
   "id": "0a982352",
   "metadata": {},
   "outputs": [
    {
     "data": {
      "application/vnd.plotly.v1+json": {
       "config": {
        "plotlyServerURL": "https://plot.ly"
       },
       "data": [
        {
         "hovertemplate": "Fruits=%{x}<br>Quantity=%{y}<extra></extra>",
         "legendgroup": "Apples",
         "marker": {
          "color": "#636efa",
          "pattern": {
           "shape": ""
          }
         },
         "name": "Apples",
         "orientation": "v",
         "showlegend": true,
         "textposition": "auto",
         "type": "bar",
         "x": [
          "Apples"
         ],
         "xaxis": "x",
         "y": {
          "bdata": "Cg==",
          "dtype": "i1"
         },
         "yaxis": "y"
        },
        {
         "hovertemplate": "Fruits=%{x}<br>Quantity=%{y}<extra></extra>",
         "legendgroup": "Bananas",
         "marker": {
          "color": "#EF553B",
          "pattern": {
           "shape": ""
          }
         },
         "name": "Bananas",
         "orientation": "v",
         "showlegend": true,
         "textposition": "auto",
         "type": "bar",
         "x": [
          "Bananas"
         ],
         "xaxis": "x",
         "y": {
          "bdata": "Dw==",
          "dtype": "i1"
         },
         "yaxis": "y"
        },
        {
         "hovertemplate": "Fruits=%{x}<br>Quantity=%{y}<extra></extra>",
         "legendgroup": "Cherries",
         "marker": {
          "color": "#00cc96",
          "pattern": {
           "shape": ""
          }
         },
         "name": "Cherries",
         "orientation": "v",
         "showlegend": true,
         "textposition": "auto",
         "type": "bar",
         "x": [
          "Cherries"
         ],
         "xaxis": "x",
         "y": {
          "bdata": "Bw==",
          "dtype": "i1"
         },
         "yaxis": "y"
        },
        {
         "hovertemplate": "Fruits=%{x}<br>Quantity=%{y}<extra></extra>",
         "legendgroup": "Dates",
         "marker": {
          "color": "#ab63fa",
          "pattern": {
           "shape": ""
          }
         },
         "name": "Dates",
         "orientation": "v",
         "showlegend": true,
         "textposition": "auto",
         "type": "bar",
         "x": [
          "Dates"
         ],
         "xaxis": "x",
         "y": {
          "bdata": "DA==",
          "dtype": "i1"
         },
         "yaxis": "y"
        }
       ],
       "layout": {
        "barmode": "relative",
        "legend": {
         "title": {
          "text": "Fruits"
         },
         "tracegroupgap": 0
        },
        "template": {
         "data": {
          "bar": [
           {
            "error_x": {
             "color": "#2a3f5f"
            },
            "error_y": {
             "color": "#2a3f5f"
            },
            "marker": {
             "line": {
              "color": "#E5ECF6",
              "width": 0.5
             },
             "pattern": {
              "fillmode": "overlay",
              "size": 10,
              "solidity": 0.2
             }
            },
            "type": "bar"
           }
          ],
          "barpolar": [
           {
            "marker": {
             "line": {
              "color": "#E5ECF6",
              "width": 0.5
             },
             "pattern": {
              "fillmode": "overlay",
              "size": 10,
              "solidity": 0.2
             }
            },
            "type": "barpolar"
           }
          ],
          "carpet": [
           {
            "aaxis": {
             "endlinecolor": "#2a3f5f",
             "gridcolor": "white",
             "linecolor": "white",
             "minorgridcolor": "white",
             "startlinecolor": "#2a3f5f"
            },
            "baxis": {
             "endlinecolor": "#2a3f5f",
             "gridcolor": "white",
             "linecolor": "white",
             "minorgridcolor": "white",
             "startlinecolor": "#2a3f5f"
            },
            "type": "carpet"
           }
          ],
          "choropleth": [
           {
            "colorbar": {
             "outlinewidth": 0,
             "ticks": ""
            },
            "type": "choropleth"
           }
          ],
          "contour": [
           {
            "colorbar": {
             "outlinewidth": 0,
             "ticks": ""
            },
            "colorscale": [
             [
              0,
              "#0d0887"
             ],
             [
              0.1111111111111111,
              "#46039f"
             ],
             [
              0.2222222222222222,
              "#7201a8"
             ],
             [
              0.3333333333333333,
              "#9c179e"
             ],
             [
              0.4444444444444444,
              "#bd3786"
             ],
             [
              0.5555555555555556,
              "#d8576b"
             ],
             [
              0.6666666666666666,
              "#ed7953"
             ],
             [
              0.7777777777777778,
              "#fb9f3a"
             ],
             [
              0.8888888888888888,
              "#fdca26"
             ],
             [
              1,
              "#f0f921"
             ]
            ],
            "type": "contour"
           }
          ],
          "contourcarpet": [
           {
            "colorbar": {
             "outlinewidth": 0,
             "ticks": ""
            },
            "type": "contourcarpet"
           }
          ],
          "heatmap": [
           {
            "colorbar": {
             "outlinewidth": 0,
             "ticks": ""
            },
            "colorscale": [
             [
              0,
              "#0d0887"
             ],
             [
              0.1111111111111111,
              "#46039f"
             ],
             [
              0.2222222222222222,
              "#7201a8"
             ],
             [
              0.3333333333333333,
              "#9c179e"
             ],
             [
              0.4444444444444444,
              "#bd3786"
             ],
             [
              0.5555555555555556,
              "#d8576b"
             ],
             [
              0.6666666666666666,
              "#ed7953"
             ],
             [
              0.7777777777777778,
              "#fb9f3a"
             ],
             [
              0.8888888888888888,
              "#fdca26"
             ],
             [
              1,
              "#f0f921"
             ]
            ],
            "type": "heatmap"
           }
          ],
          "histogram": [
           {
            "marker": {
             "pattern": {
              "fillmode": "overlay",
              "size": 10,
              "solidity": 0.2
             }
            },
            "type": "histogram"
           }
          ],
          "histogram2d": [
           {
            "colorbar": {
             "outlinewidth": 0,
             "ticks": ""
            },
            "colorscale": [
             [
              0,
              "#0d0887"
             ],
             [
              0.1111111111111111,
              "#46039f"
             ],
             [
              0.2222222222222222,
              "#7201a8"
             ],
             [
              0.3333333333333333,
              "#9c179e"
             ],
             [
              0.4444444444444444,
              "#bd3786"
             ],
             [
              0.5555555555555556,
              "#d8576b"
             ],
             [
              0.6666666666666666,
              "#ed7953"
             ],
             [
              0.7777777777777778,
              "#fb9f3a"
             ],
             [
              0.8888888888888888,
              "#fdca26"
             ],
             [
              1,
              "#f0f921"
             ]
            ],
            "type": "histogram2d"
           }
          ],
          "histogram2dcontour": [
           {
            "colorbar": {
             "outlinewidth": 0,
             "ticks": ""
            },
            "colorscale": [
             [
              0,
              "#0d0887"
             ],
             [
              0.1111111111111111,
              "#46039f"
             ],
             [
              0.2222222222222222,
              "#7201a8"
             ],
             [
              0.3333333333333333,
              "#9c179e"
             ],
             [
              0.4444444444444444,
              "#bd3786"
             ],
             [
              0.5555555555555556,
              "#d8576b"
             ],
             [
              0.6666666666666666,
              "#ed7953"
             ],
             [
              0.7777777777777778,
              "#fb9f3a"
             ],
             [
              0.8888888888888888,
              "#fdca26"
             ],
             [
              1,
              "#f0f921"
             ]
            ],
            "type": "histogram2dcontour"
           }
          ],
          "mesh3d": [
           {
            "colorbar": {
             "outlinewidth": 0,
             "ticks": ""
            },
            "type": "mesh3d"
           }
          ],
          "parcoords": [
           {
            "line": {
             "colorbar": {
              "outlinewidth": 0,
              "ticks": ""
             }
            },
            "type": "parcoords"
           }
          ],
          "pie": [
           {
            "automargin": true,
            "type": "pie"
           }
          ],
          "scatter": [
           {
            "fillpattern": {
             "fillmode": "overlay",
             "size": 10,
             "solidity": 0.2
            },
            "type": "scatter"
           }
          ],
          "scatter3d": [
           {
            "line": {
             "colorbar": {
              "outlinewidth": 0,
              "ticks": ""
             }
            },
            "marker": {
             "colorbar": {
              "outlinewidth": 0,
              "ticks": ""
             }
            },
            "type": "scatter3d"
           }
          ],
          "scattercarpet": [
           {
            "marker": {
             "colorbar": {
              "outlinewidth": 0,
              "ticks": ""
             }
            },
            "type": "scattercarpet"
           }
          ],
          "scattergeo": [
           {
            "marker": {
             "colorbar": {
              "outlinewidth": 0,
              "ticks": ""
             }
            },
            "type": "scattergeo"
           }
          ],
          "scattergl": [
           {
            "marker": {
             "colorbar": {
              "outlinewidth": 0,
              "ticks": ""
             }
            },
            "type": "scattergl"
           }
          ],
          "scattermap": [
           {
            "marker": {
             "colorbar": {
              "outlinewidth": 0,
              "ticks": ""
             }
            },
            "type": "scattermap"
           }
          ],
          "scattermapbox": [
           {
            "marker": {
             "colorbar": {
              "outlinewidth": 0,
              "ticks": ""
             }
            },
            "type": "scattermapbox"
           }
          ],
          "scatterpolar": [
           {
            "marker": {
             "colorbar": {
              "outlinewidth": 0,
              "ticks": ""
             }
            },
            "type": "scatterpolar"
           }
          ],
          "scatterpolargl": [
           {
            "marker": {
             "colorbar": {
              "outlinewidth": 0,
              "ticks": ""
             }
            },
            "type": "scatterpolargl"
           }
          ],
          "scatterternary": [
           {
            "marker": {
             "colorbar": {
              "outlinewidth": 0,
              "ticks": ""
             }
            },
            "type": "scatterternary"
           }
          ],
          "surface": [
           {
            "colorbar": {
             "outlinewidth": 0,
             "ticks": ""
            },
            "colorscale": [
             [
              0,
              "#0d0887"
             ],
             [
              0.1111111111111111,
              "#46039f"
             ],
             [
              0.2222222222222222,
              "#7201a8"
             ],
             [
              0.3333333333333333,
              "#9c179e"
             ],
             [
              0.4444444444444444,
              "#bd3786"
             ],
             [
              0.5555555555555556,
              "#d8576b"
             ],
             [
              0.6666666666666666,
              "#ed7953"
             ],
             [
              0.7777777777777778,
              "#fb9f3a"
             ],
             [
              0.8888888888888888,
              "#fdca26"
             ],
             [
              1,
              "#f0f921"
             ]
            ],
            "type": "surface"
           }
          ],
          "table": [
           {
            "cells": {
             "fill": {
              "color": "#EBF0F8"
             },
             "line": {
              "color": "white"
             }
            },
            "header": {
             "fill": {
              "color": "#C8D4E3"
             },
             "line": {
              "color": "white"
             }
            },
            "type": "table"
           }
          ]
         },
         "layout": {
          "annotationdefaults": {
           "arrowcolor": "#2a3f5f",
           "arrowhead": 0,
           "arrowwidth": 1
          },
          "autotypenumbers": "strict",
          "coloraxis": {
           "colorbar": {
            "outlinewidth": 0,
            "ticks": ""
           }
          },
          "colorscale": {
           "diverging": [
            [
             0,
             "#8e0152"
            ],
            [
             0.1,
             "#c51b7d"
            ],
            [
             0.2,
             "#de77ae"
            ],
            [
             0.3,
             "#f1b6da"
            ],
            [
             0.4,
             "#fde0ef"
            ],
            [
             0.5,
             "#f7f7f7"
            ],
            [
             0.6,
             "#e6f5d0"
            ],
            [
             0.7,
             "#b8e186"
            ],
            [
             0.8,
             "#7fbc41"
            ],
            [
             0.9,
             "#4d9221"
            ],
            [
             1,
             "#276419"
            ]
           ],
           "sequential": [
            [
             0,
             "#0d0887"
            ],
            [
             0.1111111111111111,
             "#46039f"
            ],
            [
             0.2222222222222222,
             "#7201a8"
            ],
            [
             0.3333333333333333,
             "#9c179e"
            ],
            [
             0.4444444444444444,
             "#bd3786"
            ],
            [
             0.5555555555555556,
             "#d8576b"
            ],
            [
             0.6666666666666666,
             "#ed7953"
            ],
            [
             0.7777777777777778,
             "#fb9f3a"
            ],
            [
             0.8888888888888888,
             "#fdca26"
            ],
            [
             1,
             "#f0f921"
            ]
           ],
           "sequentialminus": [
            [
             0,
             "#0d0887"
            ],
            [
             0.1111111111111111,
             "#46039f"
            ],
            [
             0.2222222222222222,
             "#7201a8"
            ],
            [
             0.3333333333333333,
             "#9c179e"
            ],
            [
             0.4444444444444444,
             "#bd3786"
            ],
            [
             0.5555555555555556,
             "#d8576b"
            ],
            [
             0.6666666666666666,
             "#ed7953"
            ],
            [
             0.7777777777777778,
             "#fb9f3a"
            ],
            [
             0.8888888888888888,
             "#fdca26"
            ],
            [
             1,
             "#f0f921"
            ]
           ]
          },
          "colorway": [
           "#636efa",
           "#EF553B",
           "#00cc96",
           "#ab63fa",
           "#FFA15A",
           "#19d3f3",
           "#FF6692",
           "#B6E880",
           "#FF97FF",
           "#FECB52"
          ],
          "font": {
           "color": "#2a3f5f"
          },
          "geo": {
           "bgcolor": "white",
           "lakecolor": "white",
           "landcolor": "#E5ECF6",
           "showlakes": true,
           "showland": true,
           "subunitcolor": "white"
          },
          "hoverlabel": {
           "align": "left"
          },
          "hovermode": "closest",
          "mapbox": {
           "style": "light"
          },
          "paper_bgcolor": "white",
          "plot_bgcolor": "#E5ECF6",
          "polar": {
           "angularaxis": {
            "gridcolor": "white",
            "linecolor": "white",
            "ticks": ""
           },
           "bgcolor": "#E5ECF6",
           "radialaxis": {
            "gridcolor": "white",
            "linecolor": "white",
            "ticks": ""
           }
          },
          "scene": {
           "xaxis": {
            "backgroundcolor": "#E5ECF6",
            "gridcolor": "white",
            "gridwidth": 2,
            "linecolor": "white",
            "showbackground": true,
            "ticks": "",
            "zerolinecolor": "white"
           },
           "yaxis": {
            "backgroundcolor": "#E5ECF6",
            "gridcolor": "white",
            "gridwidth": 2,
            "linecolor": "white",
            "showbackground": true,
            "ticks": "",
            "zerolinecolor": "white"
           },
           "zaxis": {
            "backgroundcolor": "#E5ECF6",
            "gridcolor": "white",
            "gridwidth": 2,
            "linecolor": "white",
            "showbackground": true,
            "ticks": "",
            "zerolinecolor": "white"
           }
          },
          "shapedefaults": {
           "line": {
            "color": "#2a3f5f"
           }
          },
          "ternary": {
           "aaxis": {
            "gridcolor": "white",
            "linecolor": "white",
            "ticks": ""
           },
           "baxis": {
            "gridcolor": "white",
            "linecolor": "white",
            "ticks": ""
           },
           "bgcolor": "#E5ECF6",
           "caxis": {
            "gridcolor": "white",
            "linecolor": "white",
            "ticks": ""
           }
          },
          "title": {
           "x": 0.05
          },
          "xaxis": {
           "automargin": true,
           "gridcolor": "white",
           "linecolor": "white",
           "ticks": "",
           "title": {
            "standoff": 15
           },
           "zerolinecolor": "white",
           "zerolinewidth": 2
          },
          "yaxis": {
           "automargin": true,
           "gridcolor": "white",
           "linecolor": "white",
           "ticks": "",
           "title": {
            "standoff": 15
           },
           "zerolinecolor": "white",
           "zerolinewidth": 2
          }
         }
        },
        "title": {
         "text": "Fruit Quantity Bar Plot"
        },
        "xaxis": {
         "anchor": "y",
         "categoryarray": [
          "Apples",
          "Bananas",
          "Cherries",
          "Dates"
         ],
         "categoryorder": "array",
         "domain": [
          0,
          1
         ],
         "title": {
          "text": "Fruits"
         }
        },
        "yaxis": {
         "anchor": "x",
         "domain": [
          0,
          1
         ],
         "title": {
          "text": "Quantity"
         }
        }
       }
      }
     },
     "metadata": {},
     "output_type": "display_data"
    }
   ],
   "source": [
    "import plotly.express as px\n",
    "import pandas as pd\n",
    "\n",
    "# Sample data\n",
    "data = {'Fruits': ['Apples', 'Bananas', 'Cherries', 'Dates'],\n",
    "        'Quantity': [10, 15, 7, 12]}\n",
    "\n",
    "df = pd.DataFrame(data)\n",
    "\n",
    "# Create bar plot\n",
    "fig = px.bar(df, x='Fruits', y='Quantity', color='Fruits',\n",
    "             title='Fruit Quantity Bar Plot')\n",
    "\n",
    "# Show plot\n",
    "fig.show()\n"
   ]
  },
  {
   "cell_type": "markdown",
   "id": "949498ca",
   "metadata": {},
   "source": [
    "***6.Create a DataFrame and add a new column based on an existing column.***"
   ]
  },
  {
   "cell_type": "code",
   "execution_count": 27,
   "id": "1a52e7c1",
   "metadata": {},
   "outputs": [
    {
     "name": "stdout",
     "output_type": "stream",
     "text": [
      "    Name  Marks Result\n",
      "0   Amit     85   Pass\n",
      "1   Riya     90   Pass\n",
      "2  Sohan     78   Fail\n",
      "3  Priya     88   Pass\n"
     ]
    }
   ],
   "source": [
    "import pandas as pd\n",
    "\n",
    "# Create a sample DataFrame\n",
    "data = {'Name': ['Amit', 'Riya', 'Sohan', 'Priya'],\n",
    "        'Marks': [85, 90, 78, 88]}\n",
    "\n",
    "df = pd.DataFrame(data)\n",
    "\n",
    "# Add a new column 'Result' based on 'Marks'\n",
    "df['Result'] = df['Marks'].apply(lambda x: 'Pass' if x >= 80 else 'Fail')\n",
    "\n",
    "print(df)\n"
   ]
  },
  {
   "cell_type": "markdown",
   "id": "9899765f",
   "metadata": {},
   "source": [
    "\n",
    "***7.Write a program to perform element-wise multiplication of two NumPy arrays.***\n"
   ]
  },
  {
   "cell_type": "code",
   "execution_count": 26,
   "id": "5f66eea4",
   "metadata": {},
   "outputs": [
    {
     "name": "stdout",
     "output_type": "stream",
     "text": [
      "Array 1: [1 2 3 4]\n",
      "Array 2: [5 6 7 8]\n",
      "Element-wise multiplication: [ 5 12 21 32]\n"
     ]
    }
   ],
   "source": [
    "import numpy as np\n",
    "\n",
    "# Create two NumPy arrays\n",
    "arr1 = np.array([1, 2, 3, 4])\n",
    "arr2 = np.array([5, 6, 7, 8])\n",
    "\n",
    "# Element-wise multiplication\n",
    "result = arr1 * arr2\n",
    "\n",
    "print(\"Array 1:\", arr1)\n",
    "print(\"Array 2:\", arr2)\n",
    "print(\"Element-wise multiplication:\", result)\n"
   ]
  },
  {
   "cell_type": "markdown",
   "id": "4028ab02",
   "metadata": {},
   "source": [
    "***8.Create a line plot with multiple lines using Matplotlib.***"
   ]
  },
  {
   "cell_type": "code",
   "execution_count": 28,
   "id": "c263c700",
   "metadata": {},
   "outputs": [
    {
     "data": {
      "image/png": "[encoded data removed]",
      "text/plain": [
       "<Figure size 640x480 with 1 Axes>"
      ]
     },
     "metadata": {},
     "output_type": "display_data"
    }
   ],
   "source": [
    "import matplotlib.pyplot as plt\n",
    "\n",
    "# Sample data\n",
    "x = [1, 2, 3, 4, 5]\n",
    "y1 = [2, 4, 6, 8, 10]   # Line 1\n",
    "y2 = [1, 3, 5, 7, 9]    # Line 2\n",
    "\n",
    "# Create line plot\n",
    "plt.plot(x, y1, label='Line 1', color='blue', marker='o')\n",
    "plt.plot(x, y2, label='Line 2', color='red', marker='s')\n",
    "\n",
    "# Add title and labels\n",
    "plt.title(\"Multiple Line Plot Example\")\n",
    "plt.xlabel(\"X-axis\")\n",
    "plt.ylabel(\"Y-axis\")\n",
    "\n",
    "# Show legend\n",
    "plt.legend()\n",
    "\n",
    "# Show plot\n",
    "plt.show()\n"
   ]
  },
  {
   "cell_type": "markdown",
   "id": "769c5c18",
   "metadata": {},
   "source": [
    "***9.Generate a Pandas DataFrame and filter rows where a column value is greater than a threshold.***"
   ]
  },
  {
   "cell_type": "code",
   "execution_count": 29,
   "id": "fc16db96",
   "metadata": {},
   "outputs": [
    {
     "name": "stdout",
     "output_type": "stream",
     "text": [
      "    Name  Marks\n",
      "1   Riya     90\n",
      "3  Priya     88\n"
     ]
    }
   ],
   "source": [
    "import pandas as pd\n",
    "\n",
    "# Create a sample DataFrame\n",
    "data = {'Name': ['Amit', 'Riya', 'Sohan', 'Priya'],\n",
    "        'Marks': [85, 90, 78, 88]}\n",
    "\n",
    "df = pd.DataFrame(data)\n",
    "\n",
    "# Filter rows where 'Marks' > 85\n",
    "filtered_df = df[df['Marks'] > 85]\n",
    "\n",
    "print(filtered_df)\n"
   ]
  },
  {
   "cell_type": "markdown",
   "id": "5f403bfb",
   "metadata": {},
   "source": [
    "\n",
    "***10.Create a histogram using Seaborn to visualize a distribution.***"
   ]
  },
  {
   "cell_type": "code",
   "execution_count": 30,
   "id": "48e4a583",
   "metadata": {},
   "outputs": [
    {
     "data": {
      "image/png": "[encoded data removed]",
      "text/plain": [
       "<Figure size 640x480 with 1 Axes>"
      ]
     },
     "metadata": {},
     "output_type": "display_data"
    }
   ],
   "source": [
    "import seaborn as sns\n",
    "import matplotlib.pyplot as plt\n",
    "\n",
    "# Sample data\n",
    "marks = [85, 90, 78, 88, 92, 75, 80, 95, 89, 84]\n",
    "\n",
    "# Create histogram\n",
    "sns.histplot(marks, bins=5, kde=True, color='skyblue')\n",
    "\n",
    "# Add title and labels\n",
    "plt.title(\"Distribution of Marks\")\n",
    "plt.xlabel(\"Marks\")\n",
    "plt.ylabel(\"Frequency\")\n",
    "\n",
    "# Show plot\n",
    "plt.show()\n"
   ]
  },
  {
   "cell_type": "markdown",
   "id": "8c4f139b",
   "metadata": {},
   "source": [
    "***11.Perform matrix multiplication using NumPy.***"
   ]
  },
  {
   "cell_type": "code",
   "execution_count": 31,
   "id": "2c122518",
   "metadata": {},
   "outputs": [
    {
     "name": "stdout",
     "output_type": "stream",
     "text": [
      "Matrix A:\n",
      " [[1 2]\n",
      " [3 4]]\n",
      "Matrix B:\n",
      " [[5 6]\n",
      " [7 8]]\n",
      "Matrix Multiplication Result:\n",
      " [[19 22]\n",
      " [43 50]]\n"
     ]
    }
   ],
   "source": [
    "import numpy as np\n",
    "\n",
    "# Create two matrices\n",
    "A = np.array([[1, 2],\n",
    "              [3, 4]])\n",
    "\n",
    "B = np.array([[5, 6],\n",
    "              [7, 8]])\n",
    "\n",
    "# Matrix multiplication\n",
    "result = np.dot(A, B)  # or A @ B\n",
    "\n",
    "print(\"Matrix A:\\n\", A)\n",
    "print(\"Matrix B:\\n\", B)\n",
    "print(\"Matrix Multiplication Result:\\n\", result)\n"
   ]
  },
  {
   "cell_type": "markdown",
   "id": "31794f94",
   "metadata": {},
   "source": [
    "***12.Use Pandas to load a CSV file and display its first 5 rows.***"
   ]
  },
  {
   "cell_type": "code",
   "execution_count": 33,
   "id": "cb0f39a4",
   "metadata": {},
   "outputs": [
    {
     "name": "stdout",
     "output_type": "stream",
     "text": [
      "       Name course    fee\n",
      "0  Abhishek    dsa  25000\n",
      "1     lavna  cloud   4000\n"
     ]
    }
   ],
   "source": [
    "import pandas as pd\n",
    "\n",
    "# Load CSV file into a DataFrame\n",
    "df = pd.read_csv(\"example_csv.csv\")  # Replace 'data.csv' with your file path\n",
    "\n",
    "# Display the first 5 rows\n",
    "print(df.head())\n"
   ]
  },
  {
   "cell_type": "markdown",
   "id": "d9259adc",
   "metadata": {},
   "source": [
    "***13.Create a 3D scatter plot using Plotly.***"
   ]
  },
  {
   "cell_type": "code",
   "execution_count": 34,
   "id": "094672ed",
   "metadata": {},
   "outputs": [
    {
     "data": {
      "application/vnd.plotly.v1+json": {
       "config": {
        "plotlyServerURL": "https://plot.ly"
       },
       "data": [
        {
         "hovertemplate": "Category=A<br>X=%{x}<br>Y=%{y}<br>Z=%{marker.size}<extra></extra>",
         "legendgroup": "A",
         "marker": {
          "color": "#636efa",
          "size": {
           "bdata": "BQcJ",
           "dtype": "i1"
          },
          "sizemode": "area",
          "sizeref": 0.0225,
          "symbol": "circle"
         },
         "mode": "markers",
         "name": "A",
         "scene": "scene",
         "showlegend": true,
         "type": "scatter3d",
         "x": {
          "bdata": "AQMF",
          "dtype": "i1"
         },
         "y": {
          "bdata": "CgwO",
          "dtype": "i1"
         },
         "z": {
          "bdata": "BQcJ",
          "dtype": "i1"
         }
        },
        {
         "hovertemplate": "Category=B<br>X=%{x}<br>Y=%{y}<br>Z=%{marker.size}<extra></extra>",
         "legendgroup": "B",
         "marker": {
          "color": "#EF553B",
          "size": {
           "bdata": "Bgg=",
           "dtype": "i1"
          },
          "sizemode": "area",
          "sizeref": 0.0225,
          "symbol": "circle"
         },
         "mode": "markers",
         "name": "B",
         "scene": "scene",
         "showlegend": true,
         "type": "scatter3d",
         "x": {
          "bdata": "AgQ=",
          "dtype": "i1"
         },
         "y": {
          "bdata": "Cw0=",
          "dtype": "i1"
         },
         "z": {
          "bdata": "Bgg=",
          "dtype": "i1"
         }
        }
       ],
       "layout": {
        "legend": {
         "itemsizing": "constant",
         "title": {
          "text": "Category"
         },
         "tracegroupgap": 0
        },
        "scene": {
         "domain": {
          "x": [
           0,
           1
          ],
          "y": [
           0,
           1
          ]
         },
         "xaxis": {
          "title": {
           "text": "X"
          }
         },
         "yaxis": {
          "title": {
           "text": "Y"
          }
         },
         "zaxis": {
          "title": {
           "text": "Z"
          }
         }
        },
        "template": {
         "data": {
          "bar": [
           {
            "error_x": {
             "color": "#2a3f5f"
            },
            "error_y": {
             "color": "#2a3f5f"
            },
            "marker": {
             "line": {
              "color": "#E5ECF6",
              "width": 0.5
             },
             "pattern": {
              "fillmode": "overlay",
              "size": 10,
              "solidity": 0.2
             }
            },
            "type": "bar"
           }
          ],
          "barpolar": [
           {
            "marker": {
             "line": {
              "color": "#E5ECF6",
              "width": 0.5
             },
             "pattern": {
              "fillmode": "overlay",
              "size": 10,
              "solidity": 0.2
             }
            },
            "type": "barpolar"
           }
          ],
          "carpet": [
           {
            "aaxis": {
             "endlinecolor": "#2a3f5f",
             "gridcolor": "white",
             "linecolor": "white",
             "minorgridcolor": "white",
             "startlinecolor": "#2a3f5f"
            },
            "baxis": {
             "endlinecolor": "#2a3f5f",
             "gridcolor": "white",
             "linecolor": "white",
             "minorgridcolor": "white",
             "startlinecolor": "#2a3f5f"
            },
            "type": "carpet"
           }
          ],
          "choropleth": [
           {
            "colorbar": {
             "outlinewidth": 0,
             "ticks": ""
            },
            "type": "choropleth"
           }
          ],
          "contour": [
           {
            "colorbar": {
             "outlinewidth": 0,
             "ticks": ""
            },
            "colorscale": [
             [
              0,
              "#0d0887"
             ],
             [
              0.1111111111111111,
              "#46039f"
             ],
             [
              0.2222222222222222,
              "#7201a8"
             ],
             [
              0.3333333333333333,
              "#9c179e"
             ],
             [
              0.4444444444444444,
              "#bd3786"
             ],
             [
              0.5555555555555556,
              "#d8576b"
             ],
             [
              0.6666666666666666,
              "#ed7953"
             ],
             [
              0.7777777777777778,
              "#fb9f3a"
             ],
             [
              0.8888888888888888,
              "#fdca26"
             ],
             [
              1,
              "#f0f921"
             ]
            ],
            "type": "contour"
           }
          ],
          "contourcarpet": [
           {
            "colorbar": {
             "outlinewidth": 0,
             "ticks": ""
            },
            "type": "contourcarpet"
           }
          ],
          "heatmap": [
           {
            "colorbar": {
             "outlinewidth": 0,
             "ticks": ""
            },
            "colorscale": [
             [
              0,
              "#0d0887"
             ],
             [
              0.1111111111111111,
              "#46039f"
             ],
             [
              0.2222222222222222,
              "#7201a8"
             ],
             [
              0.3333333333333333,
              "#9c179e"
             ],
             [
              0.4444444444444444,
              "#bd3786"
             ],
             [
              0.5555555555555556,
              "#d8576b"
             ],
             [
              0.6666666666666666,
              "#ed7953"
             ],
             [
              0.7777777777777778,
              "#fb9f3a"
             ],
             [
              0.8888888888888888,
              "#fdca26"
             ],
             [
              1,
              "#f0f921"
             ]
            ],
            "type": "heatmap"
           }
          ],
          "histogram": [
           {
            "marker": {
             "pattern": {
              "fillmode": "overlay",
              "size": 10,
              "solidity": 0.2
             }
            },
            "type": "histogram"
           }
          ],
          "histogram2d": [
           {
            "colorbar": {
             "outlinewidth": 0,
             "ticks": ""
            },
            "colorscale": [
             [
              0,
              "#0d0887"
             ],
             [
              0.1111111111111111,
              "#46039f"
             ],
             [
              0.2222222222222222,
              "#7201a8"
             ],
             [
              0.3333333333333333,
              "#9c179e"
             ],
             [
              0.4444444444444444,
              "#bd3786"
             ],
             [
              0.5555555555555556,
              "#d8576b"
             ],
             [
              0.6666666666666666,
              "#ed7953"
             ],
             [
              0.7777777777777778,
              "#fb9f3a"
             ],
             [
              0.8888888888888888,
              "#fdca26"
             ],
             [
              1,
              "#f0f921"
             ]
            ],
            "type": "histogram2d"
           }
          ],
          "histogram2dcontour": [
           {
            "colorbar": {
             "outlinewidth": 0,
             "ticks": ""
            },
            "colorscale": [
             [
              0,
              "#0d0887"
             ],
             [
              0.1111111111111111,
              "#46039f"
             ],
             [
              0.2222222222222222,
              "#7201a8"
             ],
             [
              0.3333333333333333,
              "#9c179e"
             ],
             [
              0.4444444444444444,
              "#bd3786"
             ],
             [
              0.5555555555555556,
              "#d8576b"
             ],
             [
              0.6666666666666666,
              "#ed7953"
             ],
             [
              0.7777777777777778,
              "#fb9f3a"
             ],
             [
              0.8888888888888888,
              "#fdca26"
             ],
             [
              1,
              "#f0f921"
             ]
            ],
            "type": "histogram2dcontour"
           }
          ],
          "mesh3d": [
           {
            "colorbar": {
             "outlinewidth": 0,
             "ticks": ""
            },
            "type": "mesh3d"
           }
          ],
          "parcoords": [
           {
            "line": {
             "colorbar": {
              "outlinewidth": 0,
              "ticks": ""
             }
            },
            "type": "parcoords"
           }
          ],
          "pie": [
           {
            "automargin": true,
            "type": "pie"
           }
          ],
          "scatter": [
           {
            "fillpattern": {
             "fillmode": "overlay",
             "size": 10,
             "solidity": 0.2
            },
            "type": "scatter"
           }
          ],
          "scatter3d": [
           {
            "line": {
             "colorbar": {
              "outlinewidth": 0,
              "ticks": ""
             }
            },
            "marker": {
             "colorbar": {
              "outlinewidth": 0,
              "ticks": ""
             }
            },
            "type": "scatter3d"
           }
          ],
          "scattercarpet": [
           {
            "marker": {
             "colorbar": {
              "outlinewidth": 0,
              "ticks": ""
             }
            },
            "type": "scattercarpet"
           }
          ],
          "scattergeo": [
           {
            "marker": {
             "colorbar": {
              "outlinewidth": 0,
              "ticks": ""
             }
            },
            "type": "scattergeo"
           }
          ],
          "scattergl": [
           {
            "marker": {
             "colorbar": {
              "outlinewidth": 0,
              "ticks": ""
             }
            },
            "type": "scattergl"
           }
          ],
          "scattermap": [
           {
            "marker": {
             "colorbar": {
              "outlinewidth": 0,
              "ticks": ""
             }
            },
            "type": "scattermap"
           }
          ],
          "scattermapbox": [
           {
            "marker": {
             "colorbar": {
              "outlinewidth": 0,
              "ticks": ""
             }
            },
            "type": "scattermapbox"
           }
          ],
          "scatterpolar": [
           {
            "marker": {
             "colorbar": {
              "outlinewidth": 0,
              "ticks": ""
             }
            },
            "type": "scatterpolar"
           }
          ],
          "scatterpolargl": [
           {
            "marker": {
             "colorbar": {
              "outlinewidth": 0,
              "ticks": ""
             }
            },
            "type": "scatterpolargl"
           }
          ],
          "scatterternary": [
           {
            "marker": {
             "colorbar": {
              "outlinewidth": 0,
              "ticks": ""
             }
            },
            "type": "scatterternary"
           }
          ],
          "surface": [
           {
            "colorbar": {
             "outlinewidth": 0,
             "ticks": ""
            },
            "colorscale": [
             [
              0,
              "#0d0887"
             ],
             [
              0.1111111111111111,
              "#46039f"
             ],
             [
              0.2222222222222222,
              "#7201a8"
             ],
             [
              0.3333333333333333,
              "#9c179e"
             ],
             [
              0.4444444444444444,
              "#bd3786"
             ],
             [
              0.5555555555555556,
              "#d8576b"
             ],
             [
              0.6666666666666666,
              "#ed7953"
             ],
             [
              0.7777777777777778,
              "#fb9f3a"
             ],
             [
              0.8888888888888888,
              "#fdca26"
             ],
             [
              1,
              "#f0f921"
             ]
            ],
            "type": "surface"
           }
          ],
          "table": [
           {
            "cells": {
             "fill": {
              "color": "#EBF0F8"
             },
             "line": {
              "color": "white"
             }
            },
            "header": {
             "fill": {
              "color": "#C8D4E3"
             },
             "line": {
              "color": "white"
             }
            },
            "type": "table"
           }
          ]
         },
         "layout": {
          "annotationdefaults": {
           "arrowcolor": "#2a3f5f",
           "arrowhead": 0,
           "arrowwidth": 1
          },
          "autotypenumbers": "strict",
          "coloraxis": {
           "colorbar": {
            "outlinewidth": 0,
            "ticks": ""
           }
          },
          "colorscale": {
           "diverging": [
            [
             0,
             "#8e0152"
            ],
            [
             0.1,
             "#c51b7d"
            ],
            [
             0.2,
             "#de77ae"
            ],
            [
             0.3,
             "#f1b6da"
            ],
            [
             0.4,
             "#fde0ef"
            ],
            [
             0.5,
             "#f7f7f7"
            ],
            [
             0.6,
             "#e6f5d0"
            ],
            [
             0.7,
             "#b8e186"
            ],
            [
             0.8,
             "#7fbc41"
            ],
            [
             0.9,
             "#4d9221"
            ],
            [
             1,
             "#276419"
            ]
           ],
           "sequential": [
            [
             0,
             "#0d0887"
            ],
            [
             0.1111111111111111,
             "#46039f"
            ],
            [
             0.2222222222222222,
             "#7201a8"
            ],
            [
             0.3333333333333333,
             "#9c179e"
            ],
            [
             0.4444444444444444,
             "#bd3786"
            ],
            [
             0.5555555555555556,
             "#d8576b"
            ],
            [
             0.6666666666666666,
             "#ed7953"
            ],
            [
             0.7777777777777778,
             "#fb9f3a"
            ],
            [
             0.8888888888888888,
             "#fdca26"
            ],
            [
             1,
             "#f0f921"
            ]
           ],
           "sequentialminus": [
            [
             0,
             "#0d0887"
            ],
            [
             0.1111111111111111,
             "#46039f"
            ],
            [
             0.2222222222222222,
             "#7201a8"
            ],
            [
             0.3333333333333333,
             "#9c179e"
            ],
            [
             0.4444444444444444,
             "#bd3786"
            ],
            [
             0.5555555555555556,
             "#d8576b"
            ],
            [
             0.6666666666666666,
             "#ed7953"
            ],
            [
             0.7777777777777778,
             "#fb9f3a"
            ],
            [
             0.8888888888888888,
             "#fdca26"
            ],
            [
             1,
             "#f0f921"
            ]
           ]
          },
          "colorway": [
           "#636efa",
           "#EF553B",
           "#00cc96",
           "#ab63fa",
           "#FFA15A",
           "#19d3f3",
           "#FF6692",
           "#B6E880",
           "#FF97FF",
           "#FECB52"
          ],
          "font": {
           "color": "#2a3f5f"
          },
          "geo": {
           "bgcolor": "white",
           "lakecolor": "white",
           "landcolor": "#E5ECF6",
           "showlakes": true,
           "showland": true,
           "subunitcolor": "white"
          },
          "hoverlabel": {
           "align": "left"
          },
          "hovermode": "closest",
          "mapbox": {
           "style": "light"
          },
          "paper_bgcolor": "white",
          "plot_bgcolor": "#E5ECF6",
          "polar": {
           "angularaxis": {
            "gridcolor": "white",
            "linecolor": "white",
            "ticks": ""
           },
           "bgcolor": "#E5ECF6",
           "radialaxis": {
            "gridcolor": "white",
            "linecolor": "white",
            "ticks": ""
           }
          },
          "scene": {
           "xaxis": {
            "backgroundcolor": "#E5ECF6",
            "gridcolor": "white",
            "gridwidth": 2,
            "linecolor": "white",
            "showbackground": true,
            "ticks": "",
            "zerolinecolor": "white"
           },
           "yaxis": {
            "backgroundcolor": "#E5ECF6",
            "gridcolor": "white",
            "gridwidth": 2,
            "linecolor": "white",
            "showbackground": true,
            "ticks": "",
            "zerolinecolor": "white"
           },
           "zaxis": {
            "backgroundcolor": "#E5ECF6",
            "gridcolor": "white",
            "gridwidth": 2,
            "linecolor": "white",
            "showbackground": true,
            "ticks": "",
            "zerolinecolor": "white"
           }
          },
          "shapedefaults": {
           "line": {
            "color": "#2a3f5f"
           }
          },
          "ternary": {
           "aaxis": {
            "gridcolor": "white",
            "linecolor": "white",
            "ticks": ""
           },
           "baxis": {
            "gridcolor": "white",
            "linecolor": "white",
            "ticks": ""
           },
           "bgcolor": "#E5ECF6",
           "caxis": {
            "gridcolor": "white",
            "linecolor": "white",
            "ticks": ""
           }
          },
          "title": {
           "x": 0.05
          },
          "xaxis": {
           "automargin": true,
           "gridcolor": "white",
           "linecolor": "white",
           "ticks": "",
           "title": {
            "standoff": 15
           },
           "zerolinecolor": "white",
           "zerolinewidth": 2
          },
          "yaxis": {
           "automargin": true,
           "gridcolor": "white",
           "linecolor": "white",
           "ticks": "",
           "title": {
            "standoff": 15
           },
           "zerolinecolor": "white",
           "zerolinewidth": 2
          }
         }
        },
        "title": {
         "text": "3D Scatter Plot Example"
        }
       }
      }
     },
     "metadata": {},
     "output_type": "display_data"
    }
   ],
   "source": [
    "import plotly.express as px\n",
    "import pandas as pd\n",
    "\n",
    "# Sample data\n",
    "data = {'X': [1, 2, 3, 4, 5],\n",
    "        'Y': [10, 11, 12, 13, 14],\n",
    "        'Z': [5, 6, 7, 8, 9],\n",
    "        'Category': ['A', 'B', 'A', 'B', 'A']}\n",
    "\n",
    "df = pd.DataFrame(data)\n",
    "\n",
    "# Create 3D scatter plot\n",
    "fig = px.scatter_3d(df, x='X', y='Y', z='Z', color='Category', size='Z', \n",
    "                    title='3D Scatter Plot Example')\n",
    "\n",
    "# Show plot\n",
    "fig.show()\n"
   ]
  }
 ],
 "metadata": {
  "kernelspec": {
   "display_name": "Python 3",
   "language": "python",
   "name": "python3"
  },
  "language_info": {
   "codemirror_mode": {
    "name": "ipython",
    "version": 3
   },
   "file_extension": ".py",
   "mimetype": "text/x-python",
   "name": "python",
   "nbconvert_exporter": "python",
   "pygments_lexer": "ipython3",
   "version": "3.13.7"
  }
 },
 "nbformat": 4,
 "nbformat_minor": 5
}
